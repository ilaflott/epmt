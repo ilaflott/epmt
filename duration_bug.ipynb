{
 "cells": [
  {
   "cell_type": "markdown",
   "metadata": {},
   "source": [
    "Model Jobs\n",
    "\n",
    "./epmt submit sample/ppr-batch/1854/625172.tgz sample/ppr-batch/1869/633144.tgz sample/ppr-batch/1874/676007.tgz sample/ppr-batch/1884/685016.tgz sample/ppr-batch/1894/693147.tgz sample/ppr-batch/1904/802954.tgz\n",
    "\n",
    "Test Jobs\n",
    "\n",
    "./epmt submit sample/ppr-batch/1889/692544.tgz sample/ppr-batch/1864/629337.tgz\n",
    "\n",
    "\n",
    "\n",
    "\n"
   ]
  },
  {
   "cell_type": "code",
   "execution_count": 1,
   "metadata": {},
   "outputs": [
    {
     "name": "stderr",
     "output_type": "stream",
     "text": [
      "   INFO:        orm.pony: Pony ORM selected\n",
      "  DEBUG:        orm.pony: mapping db url to Pony-specific db params: {'provider': 'sqlite', 'filename': '/home/chris/EPMT_DB.sqlite', 'create_db': True}\n",
      "   INFO:        orm.pony: Binding to DB: {'provider': 'sqlite', 'filename': '/home/chris/EPMT_DB.sqlite', 'create_db': True}\n",
      "   INFO:        orm.pony: Generating mapping from schema...\n"
     ]
    }
   ],
   "source": [
    "from epmtlib import set_logging\n",
    "set_logging(intlvl=2)\n",
    "import epmt_query as eq"
   ]
  },
  {
   "cell_type": "code",
   "execution_count": 3,
   "metadata": {
    "scrolled": true
   },
   "outputs": [
    {
     "name": "stderr",
     "output_type": "stream",
     "text": [
      "   INFO:   epmt_outliers: using features: ['cpu_time', 'duration', 'num_procs']\n",
      "  DEBUG:      epmt_query: computed scores: {'modified_z_score': {'cpu_time': (4.3249, 623964730.0, 52402834.0), 'duration': (12.9301, 6696039124.0, 309579387.0), 'num_procs': (4.7215, 3412.0, 1302.7142857142858)}}\n"
     ]
    }
   ],
   "source": [
    "mod_1hr40 = eq.create_refmodel(name=\"mod_1hr40\", jobs=[\"625172\", \"627922\", \"629337\", \"633144\", \"676007\", \"680181\", \"685016\"], tag={\"exp_name\": \"ESM4_historical_D151\", \"exp_component\": \"ocean_month_rho2_1x1deg\"})"
   ]
  },
  {
   "cell_type": "code",
   "execution_count": 12,
   "metadata": {},
   "outputs": [
    {
     "data": {
      "text/plain": [
       "{'id': 67,\n",
       " 'created_at': datetime.datetime(2020, 1, 14, 23, 21, 24, 494384),\n",
       " 'updated_at': datetime.datetime(2020, 1, 14, 23, 21, 24, 494405),\n",
       " 'info_dict': {},\n",
       " 'tags': {'exp_name': 'ESM4_historical_D151',\n",
       "  'exp_component': 'ocean_month_rho2_1x1deg'},\n",
       " 'op_tags': [],\n",
       " 'computed': {'modified_z_score': {'cpu_time': (4.3249,\n",
       "    623964730.0,\n",
       "    52402834.0),\n",
       "   'duration': (12.9301, 6696039124.0, 309579387.0),\n",
       "   'num_procs': (4.7215, 3412.0, 1302.7142857142858)}},\n",
       " 'enabled': True,\n",
       " 'jobs': ['625172',\n",
       "  '627922',\n",
       "  '629337',\n",
       "  '633144',\n",
       "  '676007',\n",
       "  '680181',\n",
       "  '685016'],\n",
       " 'name': 'mod_1hr40'}"
      ]
     },
     "execution_count": 12,
     "metadata": {},
     "output_type": "execute_result"
    }
   ],
   "source": [
    "mod_1hr40"
   ]
  },
  {
   "cell_type": "code",
   "execution_count": 10,
   "metadata": {},
   "outputs": [
    {
     "name": "stderr",
     "output_type": "stream",
     "text": [
      "  DEBUG:   epmt_outliers: using a trained model for detecting outliers\n",
      "   INFO:   epmt_outliers: using features: ['cpu_time', 'duration', 'num_procs']\n",
      "  DEBUG:   epmt_outliers: params[modified_z_score][cpu_time]: [4.3249, 623964730.0, 52402834.0]\n",
      "  DEBUG:   epmt_outliers: params[modified_z_score][duration]: [12.9301, 6696039124.0, 309579387.0]\n",
      "  DEBUG:   epmt_outliers: params[modified_z_score][num_procs]: [4.7215, 3412.0, 1302.7142857142858]\n"
     ]
    },
    {
     "name": "stdout",
     "output_type": "stream",
     "text": [
      "{'cpu_time': ({'692544'}, set()), 'duration': (set(), {'692544'}), 'num_procs': ({'692544'}, set())}\n"
     ]
    },
    {
     "data": {
      "text/html": [
       "<div>\n",
       "<style scoped>\n",
       "    .dataframe tbody tr th:only-of-type {\n",
       "        vertical-align: middle;\n",
       "    }\n",
       "\n",
       "    .dataframe tbody tr th {\n",
       "        vertical-align: top;\n",
       "    }\n",
       "\n",
       "    .dataframe thead th {\n",
       "        text-align: right;\n",
       "    }\n",
       "</style>\n",
       "<table border=\"1\" class=\"dataframe\">\n",
       "  <thead>\n",
       "    <tr style=\"text-align: right;\">\n",
       "      <th></th>\n",
       "      <th>jobid</th>\n",
       "      <th>cpu_time</th>\n",
       "      <th>duration</th>\n",
       "      <th>num_procs</th>\n",
       "    </tr>\n",
       "  </thead>\n",
       "  <tbody>\n",
       "    <tr>\n",
       "      <td>0</td>\n",
       "      <td>692544</td>\n",
       "      <td>0</td>\n",
       "      <td>1</td>\n",
       "      <td>0</td>\n",
       "    </tr>\n",
       "  </tbody>\n",
       "</table>\n",
       "</div>"
      ],
      "text/plain": [
       "    jobid  cpu_time  duration  num_procs\n",
       "0  692544         0         1          0"
      ]
     },
     "execution_count": 10,
     "metadata": {},
     "output_type": "execute_result"
    }
   ],
   "source": [
    "#\n",
    "# 692544 - Duration: 00:11:49\n",
    "#\n",
    "\n",
    "from epmt_outliers import detect_outlier_jobs\n",
    "(df, fdict) = detect_outlier_jobs('692544', trained_model=mod_1hr40['id'])\n",
    "print(fdict)\n",
    "df"
   ]
  },
  {
   "cell_type": "code",
   "execution_count": 11,
   "metadata": {
    "scrolled": true
   },
   "outputs": [
    {
     "name": "stderr",
     "output_type": "stream",
     "text": [
      "  DEBUG:   epmt_outliers: using a trained model for detecting outliers\n",
      "   INFO:   epmt_outliers: using features: ['cpu_time', 'duration', 'num_procs']\n",
      "  DEBUG:   epmt_outliers: params[modified_z_score][cpu_time]: [4.3249, 623964730.0, 52402834.0]\n",
      "  DEBUG:   epmt_outliers: params[modified_z_score][duration]: [12.9301, 6696039124.0, 309579387.0]\n",
      "  DEBUG:   epmt_outliers: params[modified_z_score][num_procs]: [4.7215, 3412.0, 1302.7142857142858]\n"
     ]
    },
    {
     "name": "stdout",
     "output_type": "stream",
     "text": [
      "{'cpu_time': ({'804285'}, set()), 'duration': ({'804285'}, set()), 'num_procs': ({'804285'}, set())}\n"
     ]
    },
    {
     "data": {
      "text/html": [
       "<div>\n",
       "<style scoped>\n",
       "    .dataframe tbody tr th:only-of-type {\n",
       "        vertical-align: middle;\n",
       "    }\n",
       "\n",
       "    .dataframe tbody tr th {\n",
       "        vertical-align: top;\n",
       "    }\n",
       "\n",
       "    .dataframe thead th {\n",
       "        text-align: right;\n",
       "    }\n",
       "</style>\n",
       "<table border=\"1\" class=\"dataframe\">\n",
       "  <thead>\n",
       "    <tr style=\"text-align: right;\">\n",
       "      <th></th>\n",
       "      <th>jobid</th>\n",
       "      <th>cpu_time</th>\n",
       "      <th>duration</th>\n",
       "      <th>num_procs</th>\n",
       "    </tr>\n",
       "  </thead>\n",
       "  <tbody>\n",
       "    <tr>\n",
       "      <td>0</td>\n",
       "      <td>804285</td>\n",
       "      <td>0</td>\n",
       "      <td>0</td>\n",
       "      <td>0</td>\n",
       "    </tr>\n",
       "  </tbody>\n",
       "</table>\n",
       "</div>"
      ],
      "text/plain": [
       "    jobid  cpu_time  duration  num_procs\n",
       "0  804285         0         0          0"
      ]
     },
     "execution_count": 11,
     "metadata": {},
     "output_type": "execute_result"
    }
   ],
   "source": [
    "#\n",
    "# 804285 - Duration: 00:51:38\n",
    "#\n",
    "\n",
    "(df, fdict) = detect_outlier_jobs('804285', trained_model=mod_1hr40['id'])\n",
    "print(fdict)\n",
    "df"
   ]
  },
  {
   "cell_type": "code",
   "execution_count": null,
   "metadata": {},
   "outputs": [],
   "source": []
  }
 ],
 "metadata": {
  "kernelspec": {
   "display_name": "Python 3",
   "language": "python",
   "name": "python3"
  },
  "language_info": {
   "codemirror_mode": {
    "name": "ipython",
    "version": 3
   },
   "file_extension": ".py",
   "mimetype": "text/x-python",
   "name": "python",
   "nbconvert_exporter": "python",
   "pygments_lexer": "ipython3",
   "version": "3.7.4"
  }
 },
 "nbformat": 4,
 "nbformat_minor": 2
}
