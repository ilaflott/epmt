{
 "cells": [
  {
   "cell_type": "markdown",
   "metadata": {},
   "source": [
    "# Outlier Detection\n",
    "\n",
    "This notebook will walk you through a workflow for outlier detection."
   ]
  },
  {
   "cell_type": "markdown",
   "metadata": {},
   "source": [
    "## Case Study I\n",
    "\n",
    "In this example we will use synthetic data. The data was generated using:\n",
    "```\n",
    "sample/kernel/workload.sh\n",
    "```\n",
    "\n",
    "The script basically compiles the linux kernel a few times. For certain compiles\n",
    "it adds a background workload, so the compile takes longer. The slower job is marked\n",
    "with the an 'outlier' suffix. However, we will pretend we don't know the outlier\n",
    "and figure it out.\n",
    "\n",
    "Along the way, we will also learn how to create a trained model, and use it \n",
    "for future outlier detection.\n",
    "\n",
    "\n",
    "### Requirements\n",
    "\n",
    "You will need to import data lying in `test/data/outlier/*.tgz`:\n",
    "```\n",
    "$ ./epmt -v submit test/data/outlier/*.tgz\n"
   ]
  },
  {
   "cell_type": "code",
   "execution_count": 1,
   "metadata": {},
   "outputs": [
    {
     "name": "stderr",
     "output_type": "stream",
     "text": [
      "INFO:epmt_job:Binding to DB: {'host': 'localhost', 'dbname': 'EPMT', 'user': 'postgres', 'password': 'example', 'provider': 'postgres'}\n",
      "INFO:epmt_job:Generating mapping from schema...\n"
     ]
    },
    {
     "name": "stdout",
     "output_type": "stream",
     "text": [
      "{'host': 'localhost', 'dbname': 'EPMT', 'user': 'postgres', 'password': 'example', 'provider': 'postgres'}\n"
     ]
    }
   ],
   "source": [
    "import epmt_query as eq\n",
    "import epmt_outliers as eod"
   ]
  },
  {
   "cell_type": "code",
   "execution_count": null,
   "metadata": {},
   "outputs": [],
   "source": []
  }
 ],
 "metadata": {
  "kernelspec": {
   "display_name": "Python 3",
   "language": "python",
   "name": "python3"
  },
  "language_info": {
   "codemirror_mode": {
    "name": "ipython",
    "version": 3
   },
   "file_extension": ".py",
   "mimetype": "text/x-python",
   "name": "python",
   "nbconvert_exporter": "python",
   "pygments_lexer": "ipython3",
   "version": "3.5.2"
  }
 },
 "nbformat": 4,
 "nbformat_minor": 2
}
