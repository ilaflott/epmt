{
 "cells": [
  {
   "cell_type": "markdown",
   "metadata": {},
   "source": [
    "# Outlier Detection\n",
    "\n",
    "This notebook will walk you through a workflow for outlier detection."
   ]
  },
  {
   "cell_type": "markdown",
   "metadata": {},
   "source": [
    "## Case Study I\n",
    "\n",
    "In this example we will use synthetic data. The data was generated using:\n",
    "```\n",
    "sample/outlier/workload.sh\n",
    "```\n",
    "\n",
    "The script basically compiles the linux kernel a few times. For certain compiles\n",
    "it adds a background workload, so the compile takes longer. The slower job is marked\n",
    "with the an 'outlier' suffix. However, we will pretend we don't know the outlier\n",
    "and figure it out.\n",
    "\n",
    "Along the way, we will also learn how to create a trained model, and use it \n",
    "for future outlier detection.\n",
    "\n",
    "\n",
    "### Requirements\n",
    "\n",
    "You will need to import data lying in `sample/outlier/*.tgz`:\n",
    "```\n",
    "$ ./epmt -v submit sample/outlier/*.tgz\n"
   ]
  },
  {
   "cell_type": "code",
   "execution_count": 1,
   "metadata": {},
   "outputs": [
    {
     "name": "stderr",
     "output_type": "stream",
     "text": [
      "INFO:epmt_job:Binding to DB: {'provider': 'postgres', 'host': 'localhost', 'password': 'example', 'dbname': 'EPMT', 'user': 'postgres'}\n",
      "INFO:epmt_job:Generating mapping from schema...\n"
     ]
    },
    {
     "name": "stdout",
     "output_type": "stream",
     "text": [
      "{'provider': 'postgres', 'host': 'localhost', 'password': 'example', 'dbname': 'EPMT', 'user': 'postgres'}\n"
     ]
    }
   ],
   "source": [
    "import epmt_query as eq\n",
    "import epmt_outliers as eod"
   ]
  },
  {
   "cell_type": "code",
   "execution_count": 2,
   "metadata": {},
   "outputs": [
    {
     "data": {
      "text/plain": [
       "['kern-6656-20190614-185359',\n",
       " 'kern-6656-20190614-190245',\n",
       " 'kern-6656-20190614-191138',\n",
       " 'kern-6656-20190614-192044-outlier',\n",
       " 'kern-6656-20190614-194024',\n",
       " 'kern-6656-20190614-194953',\n",
       " 'kern-6656-20190614-195909',\n",
       " 'kern-6656-20190614-200819',\n",
       " 'kern-6656-20190614-201744-outlier']"
      ]
     },
     "execution_count": 2,
     "metadata": {},
     "output_type": "execute_result"
    }
   ],
   "source": [
    "jobs = eq.get_jobs(tag='exp_name:linux_kernel', fmt='terse')\n",
    "jobs"
   ]
  },
  {
   "cell_type": "code",
   "execution_count": 3,
   "metadata": {},
   "outputs": [
    {
     "data": {
      "text/html": [
       "<div>\n",
       "<table border=\"1\" class=\"dataframe\">\n",
       "  <thead>\n",
       "    <tr style=\"text-align: right;\">\n",
       "      <th></th>\n",
       "      <th>jobid</th>\n",
       "      <th>duration</th>\n",
       "      <th>cpu_time</th>\n",
       "      <th>num_procs</th>\n",
       "    </tr>\n",
       "  </thead>\n",
       "  <tbody>\n",
       "    <tr>\n",
       "      <th>0</th>\n",
       "      <td>kern-6656-20190614-185359</td>\n",
       "      <td>0</td>\n",
       "      <td>1</td>\n",
       "      <td>0</td>\n",
       "    </tr>\n",
       "    <tr>\n",
       "      <th>1</th>\n",
       "      <td>kern-6656-20190614-190245</td>\n",
       "      <td>0</td>\n",
       "      <td>0</td>\n",
       "      <td>0</td>\n",
       "    </tr>\n",
       "    <tr>\n",
       "      <th>2</th>\n",
       "      <td>kern-6656-20190614-191138</td>\n",
       "      <td>0</td>\n",
       "      <td>0</td>\n",
       "      <td>0</td>\n",
       "    </tr>\n",
       "    <tr>\n",
       "      <th>3</th>\n",
       "      <td>kern-6656-20190614-192044-outlier</td>\n",
       "      <td>1</td>\n",
       "      <td>1</td>\n",
       "      <td>0</td>\n",
       "    </tr>\n",
       "    <tr>\n",
       "      <th>4</th>\n",
       "      <td>kern-6656-20190614-194024</td>\n",
       "      <td>0</td>\n",
       "      <td>0</td>\n",
       "      <td>0</td>\n",
       "    </tr>\n",
       "    <tr>\n",
       "      <th>5</th>\n",
       "      <td>kern-6656-20190614-194953</td>\n",
       "      <td>0</td>\n",
       "      <td>0</td>\n",
       "      <td>0</td>\n",
       "    </tr>\n",
       "    <tr>\n",
       "      <th>6</th>\n",
       "      <td>kern-6656-20190614-195909</td>\n",
       "      <td>0</td>\n",
       "      <td>0</td>\n",
       "      <td>0</td>\n",
       "    </tr>\n",
       "    <tr>\n",
       "      <th>7</th>\n",
       "      <td>kern-6656-20190614-200819</td>\n",
       "      <td>0</td>\n",
       "      <td>0</td>\n",
       "      <td>0</td>\n",
       "    </tr>\n",
       "    <tr>\n",
       "      <th>8</th>\n",
       "      <td>kern-6656-20190614-201744-outlier</td>\n",
       "      <td>1</td>\n",
       "      <td>1</td>\n",
       "      <td>0</td>\n",
       "    </tr>\n",
       "  </tbody>\n",
       "</table>\n",
       "</div>"
      ],
      "text/plain": [
       "                               jobid  duration  cpu_time  num_procs\n",
       "0          kern-6656-20190614-185359         0         1          0\n",
       "1          kern-6656-20190614-190245         0         0          0\n",
       "2          kern-6656-20190614-191138         0         0          0\n",
       "3  kern-6656-20190614-192044-outlier         1         1          0\n",
       "4          kern-6656-20190614-194024         0         0          0\n",
       "5          kern-6656-20190614-194953         0         0          0\n",
       "6          kern-6656-20190614-195909         0         0          0\n",
       "7          kern-6656-20190614-200819         0         0          0\n",
       "8  kern-6656-20190614-201744-outlier         1         1          0"
      ]
     },
     "execution_count": 3,
     "metadata": {},
     "output_type": "execute_result"
    }
   ],
   "source": [
    "# As a first pass let's see whether the outliers can be auto-detected\n",
    "(df, fdict) = eod.detect_outlier_jobs(jobs)\n",
    "df"
   ]
  },
  {
   "cell_type": "markdown",
   "metadata": {},
   "source": [
    "As you can see, while we did catch both the outliers, there\n",
    "is also the \"false positive\" on one \"non-outlier\" process\n",
    "The reason the 1 is marked for `duration` and `cpu_time` but `not num_procs`\n",
    "is because the background compute process increased the job duration\n",
    "but not the number of sub-processes of our workload."
   ]
  },
  {
   "cell_type": "code",
   "execution_count": 4,
   "metadata": {},
   "outputs": [
    {
     "data": {
      "text/plain": [
       "{'cpu_time': ({'kern-6656-20190614-190245',\n",
       "   'kern-6656-20190614-191138',\n",
       "   'kern-6656-20190614-194024',\n",
       "   'kern-6656-20190614-194953',\n",
       "   'kern-6656-20190614-195909',\n",
       "   'kern-6656-20190614-200819'},\n",
       "  {'kern-6656-20190614-185359',\n",
       "   'kern-6656-20190614-192044-outlier',\n",
       "   'kern-6656-20190614-201744-outlier'}),\n",
       " 'duration': ({'kern-6656-20190614-185359',\n",
       "   'kern-6656-20190614-190245',\n",
       "   'kern-6656-20190614-191138',\n",
       "   'kern-6656-20190614-194024',\n",
       "   'kern-6656-20190614-194953',\n",
       "   'kern-6656-20190614-195909',\n",
       "   'kern-6656-20190614-200819'},\n",
       "  {'kern-6656-20190614-192044-outlier', 'kern-6656-20190614-201744-outlier'}),\n",
       " 'num_procs': ({'kern-6656-20190614-185359',\n",
       "   'kern-6656-20190614-190245',\n",
       "   'kern-6656-20190614-191138',\n",
       "   'kern-6656-20190614-192044-outlier',\n",
       "   'kern-6656-20190614-194024',\n",
       "   'kern-6656-20190614-194953',\n",
       "   'kern-6656-20190614-195909',\n",
       "   'kern-6656-20190614-200819',\n",
       "   'kern-6656-20190614-201744-outlier'},\n",
       "  set())}"
      ]
     },
     "execution_count": 4,
     "metadata": {},
     "output_type": "execute_result"
    }
   ],
   "source": [
    "fdict"
   ]
  },
  {
   "cell_type": "markdown",
   "metadata": {},
   "source": [
    "`fdict` the other return value is a dictionary keyed by `feature`. The value is a tuple of two partitions based on the `feature`. The first partition being the reference set, and the second partition is the outlier set.\n",
    "This partitioning can be more simply obtained as follows:"
   ]
  },
  {
   "cell_type": "code",
   "execution_count": 5,
   "metadata": {},
   "outputs": [
    {
     "data": {
      "text/plain": [
       "{'duration': ({'kern-6656-20190614-185359',\n",
       "   'kern-6656-20190614-190245',\n",
       "   'kern-6656-20190614-191138',\n",
       "   'kern-6656-20190614-194024',\n",
       "   'kern-6656-20190614-194953',\n",
       "   'kern-6656-20190614-195909',\n",
       "   'kern-6656-20190614-200819'},\n",
       "  {'kern-6656-20190614-192044-outlier', 'kern-6656-20190614-201744-outlier'})}"
      ]
     },
     "execution_count": 5,
     "metadata": {},
     "output_type": "execute_result"
    }
   ],
   "source": [
    "parts = eod.partition_jobs(jobs, features=['duration'])\n",
    "parts"
   ]
  },
  {
   "cell_type": "markdown",
   "metadata": {},
   "source": [
    "Above, we just got the partitioning of the jobs on a single `feature` -- `duration`."
   ]
  },
  {
   "cell_type": "markdown",
   "metadata": {},
   "source": [
    "Now would be a good time to create a trained model based on the\n",
    "set of jobs in the reference partition:"
   ]
  },
  {
   "cell_type": "code",
   "execution_count": 6,
   "metadata": {},
   "outputs": [
    {
     "data": {
      "text/plain": [
       "{'kern-6656-20190614-185359',\n",
       " 'kern-6656-20190614-190245',\n",
       " 'kern-6656-20190614-191138',\n",
       " 'kern-6656-20190614-194024',\n",
       " 'kern-6656-20190614-194953',\n",
       " 'kern-6656-20190614-195909',\n",
       " 'kern-6656-20190614-200819'}"
      ]
     },
     "execution_count": 6,
     "metadata": {},
     "output_type": "execute_result"
    }
   ],
   "source": [
    "ref_jobs = parts['duration'][0]\n",
    "ref_jobs"
   ]
  },
  {
   "cell_type": "code",
   "execution_count": 8,
   "metadata": {},
   "outputs": [],
   "source": [
    "r = eq.create_refmodel(ref_jobs, tag='exp_name:linux_kernel;type:ref')"
   ]
  },
  {
   "cell_type": "code",
   "execution_count": 10,
   "metadata": {},
   "outputs": [
    {
     "data": {
      "text/plain": [
       "(2, {'exp_name': 'linux_kernel', 'type': 'ref'})"
      ]
     },
     "execution_count": 10,
     "metadata": {},
     "output_type": "execute_result"
    }
   ],
   "source": [
    "r['id'], r['tags']"
   ]
  },
  {
   "cell_type": "markdown",
   "metadata": {},
   "source": [
    "We added a tag to help search for this trained/ref model later."
   ]
  },
  {
   "cell_type": "code",
   "execution_count": 11,
   "metadata": {},
   "outputs": [
    {
     "data": {
      "text/html": [
       "<div>\n",
       "<table border=\"1\" class=\"dataframe\">\n",
       "  <thead>\n",
       "    <tr style=\"text-align: right;\">\n",
       "      <th></th>\n",
       "      <th>jobid</th>\n",
       "      <th>duration</th>\n",
       "      <th>cpu_time</th>\n",
       "      <th>num_procs</th>\n",
       "    </tr>\n",
       "  </thead>\n",
       "  <tbody>\n",
       "    <tr>\n",
       "      <th>0</th>\n",
       "      <td>kern-6656-20190614-185359</td>\n",
       "      <td>0</td>\n",
       "      <td>0</td>\n",
       "      <td>0</td>\n",
       "    </tr>\n",
       "    <tr>\n",
       "      <th>1</th>\n",
       "      <td>kern-6656-20190614-190245</td>\n",
       "      <td>0</td>\n",
       "      <td>0</td>\n",
       "      <td>0</td>\n",
       "    </tr>\n",
       "    <tr>\n",
       "      <th>2</th>\n",
       "      <td>kern-6656-20190614-191138</td>\n",
       "      <td>0</td>\n",
       "      <td>0</td>\n",
       "      <td>0</td>\n",
       "    </tr>\n",
       "    <tr>\n",
       "      <th>3</th>\n",
       "      <td>kern-6656-20190614-192044-outlier</td>\n",
       "      <td>1</td>\n",
       "      <td>1</td>\n",
       "      <td>0</td>\n",
       "    </tr>\n",
       "    <tr>\n",
       "      <th>4</th>\n",
       "      <td>kern-6656-20190614-194024</td>\n",
       "      <td>0</td>\n",
       "      <td>0</td>\n",
       "      <td>0</td>\n",
       "    </tr>\n",
       "    <tr>\n",
       "      <th>5</th>\n",
       "      <td>kern-6656-20190614-194953</td>\n",
       "      <td>0</td>\n",
       "      <td>0</td>\n",
       "      <td>0</td>\n",
       "    </tr>\n",
       "    <tr>\n",
       "      <th>6</th>\n",
       "      <td>kern-6656-20190614-195909</td>\n",
       "      <td>0</td>\n",
       "      <td>0</td>\n",
       "      <td>0</td>\n",
       "    </tr>\n",
       "    <tr>\n",
       "      <th>7</th>\n",
       "      <td>kern-6656-20190614-200819</td>\n",
       "      <td>0</td>\n",
       "      <td>0</td>\n",
       "      <td>0</td>\n",
       "    </tr>\n",
       "    <tr>\n",
       "      <th>8</th>\n",
       "      <td>kern-6656-20190614-201744-outlier</td>\n",
       "      <td>1</td>\n",
       "      <td>1</td>\n",
       "      <td>0</td>\n",
       "    </tr>\n",
       "  </tbody>\n",
       "</table>\n",
       "</div>"
      ],
      "text/plain": [
       "                               jobid  duration  cpu_time  num_procs\n",
       "0          kern-6656-20190614-185359         0         0          0\n",
       "1          kern-6656-20190614-190245         0         0          0\n",
       "2          kern-6656-20190614-191138         0         0          0\n",
       "3  kern-6656-20190614-192044-outlier         1         1          0\n",
       "4          kern-6656-20190614-194024         0         0          0\n",
       "5          kern-6656-20190614-194953         0         0          0\n",
       "6          kern-6656-20190614-195909         0         0          0\n",
       "7          kern-6656-20190614-200819         0         0          0\n",
       "8  kern-6656-20190614-201744-outlier         1         1          0"
      ]
     },
     "execution_count": 11,
     "metadata": {},
     "output_type": "execute_result"
    }
   ],
   "source": [
    "# using the trained model is as simple as:\n",
    "(df, _) = eod.detect_outlier_jobs(jobs, trained_model = r['id'])\n",
    "df"
   ]
  },
  {
   "cell_type": "markdown",
   "metadata": {},
   "source": [
    "Obviously the jobs that were used to create the reference model will not be \n",
    "classifed as outliers for any feature."
   ]
  },
  {
   "cell_type": "markdown",
   "metadata": {},
   "source": [
    "This marks the end of this case study. In a following study we will explore how\n",
    "to detect outliers in individual operations and create a trained model for ops."
   ]
  },
  {
   "cell_type": "code",
   "execution_count": null,
   "metadata": {},
   "outputs": [],
   "source": []
  }
 ],
 "metadata": {
  "kernelspec": {
   "display_name": "Python 3",
   "language": "python",
   "name": "python3"
  },
  "language_info": {
   "codemirror_mode": {
    "name": "ipython",
    "version": 3
   },
   "file_extension": ".py",
   "mimetype": "text/x-python",
   "name": "python",
   "nbconvert_exporter": "python",
   "pygments_lexer": "ipython3",
   "version": "3.5.2"
  }
 },
 "nbformat": 4,
 "nbformat_minor": 2
}
