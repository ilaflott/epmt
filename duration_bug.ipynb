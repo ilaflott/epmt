{
 "cells": [
  {
   "cell_type": "markdown",
   "metadata": {},
   "source": [
    "Model Jobs\n",
    "\n",
    "./epmt submit sample/ppr-batch/1854/625172.tgz sample/ppr-batch/1869/633144.tgz sample/ppr-batch/1874/676007.tgz sample/ppr-batch/1884/685016.tgz sample/ppr-batch/1894/693147.tgz sample/ppr-batch/1904/802954.tgz\n",
    "\n",
    "Test Jobs\n",
    "\n",
    "./epmt submit sample/ppr-batch/1889/692544.tgz sample/ppr-batch/1864/629337.tgz\n",
    "\n",
    "\n",
    "\n",
    "\n"
   ]
  },
  {
   "cell_type": "code",
   "execution_count": 1,
   "metadata": {},
   "outputs": [],
   "source": [
    "import epmt_query as eq"
   ]
  },
  {
   "cell_type": "code",
   "execution_count": 3,
   "metadata": {
    "scrolled": true
   },
   "outputs": [],
   "source": [
    "mod_13hr = eq.create_refmodel(name=\"gt_13hrs\", jobs=[\"625172\", \"633144\", \"676007\", \"685016\", \"693147\", \"802954\"], tag={\"exp_name\": \"ESM4_historical_D151\", \"exp_component\": \"ocean_month_rho2_1x1deg\"})"
   ]
  },
  {
   "cell_type": "code",
   "execution_count": 4,
   "metadata": {},
   "outputs": [
    {
     "data": {
      "text/plain": [
       "709300857.0"
      ]
     },
     "execution_count": 4,
     "metadata": {},
     "output_type": "execute_result"
    }
   ],
   "source": [
    "from epmt_outliers import detect_outlier_jobs\n",
    "job_good = '692544'\n",
    "eq.get_jobs(job_good)[0]['duration']"
   ]
  },
  {
   "cell_type": "code",
   "execution_count": 5,
   "metadata": {},
   "outputs": [
    {
     "data": {
      "text/plain": [
       "6696039124.0"
      ]
     },
     "execution_count": 5,
     "metadata": {},
     "output_type": "execute_result"
    }
   ],
   "source": [
    "job_fail = '629337'\n",
    "eq.get_jobs(job_fail)[0]['duration']"
   ]
  },
  {
   "cell_type": "code",
   "execution_count": 6,
   "metadata": {},
   "outputs": [
    {
     "data": {
      "text/plain": [
       "(    jobid  num_procs  cpu_time  duration\n",
       " 0  692544          0         0         1,\n",
       " {'num_procs': ({'692544'}, set()),\n",
       "  'cpu_time': ({'692544'}, set()),\n",
       "  'duration': (set(), {'692544'})})"
      ]
     },
     "execution_count": 6,
     "metadata": {},
     "output_type": "execute_result"
    }
   ],
   "source": [
    "# This job appears correctly as a outlier\n",
    "detect_outlier_jobs(job_good, trained_model = mod_13hr['id'])"
   ]
  },
  {
   "cell_type": "code",
   "execution_count": 7,
   "metadata": {},
   "outputs": [
    {
     "data": {
      "text/plain": [
       "(    jobid  num_procs  cpu_time  duration\n",
       " 0  629337          0         0         0,\n",
       " {'num_procs': ({'629337'}, set()),\n",
       "  'cpu_time': ({'629337'}, set()),\n",
       "  'duration': ({'629337'}, set())})"
      ]
     },
     "execution_count": 7,
     "metadata": {},
     "output_type": "execute_result"
    }
   ],
   "source": [
    "detect_outlier_jobs(job_fail, trained_model = mod_13hr['id'])"
   ]
  },
  {
   "cell_type": "code",
   "execution_count": null,
   "metadata": {},
   "outputs": [],
   "source": []
  }
 ],
 "metadata": {
  "kernelspec": {
   "display_name": "Python 3",
   "language": "python",
   "name": "python3"
  },
  "language_info": {
   "codemirror_mode": {
    "name": "ipython",
    "version": 3
   },
   "file_extension": ".py",
   "mimetype": "text/x-python",
   "name": "python",
   "nbconvert_exporter": "python",
   "pygments_lexer": "ipython3",
   "version": "3.7.4"
  }
 },
 "nbformat": 4,
 "nbformat_minor": 2
}
