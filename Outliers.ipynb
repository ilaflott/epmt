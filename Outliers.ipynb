{
 "cells": [
  {
   "cell_type": "markdown",
   "metadata": {},
   "source": [
    "# Outlier Detection\n",
    "\n",
    "This notebook will walk you through a workflow for outlier detection.\n",
    "\n",
    "## TOC\n",
    "\n",
    " * [Detecting outlier jobs](#detect-outlier-jobs-study-1)\n",
    "  * [partition jobs](#partition-jobs)\n",
    "  * [create a trained model](#create-ref-model)"
   ]
  },
  {
   "cell_type": "markdown",
   "metadata": {},
   "source": [
    "## <a name=\"detect-outlier-jobs-study-1\">Case Study 1 - Detecting outlier jobs</a>\n",
    "\n",
    "In this example we will use synthetic data. The data was generated using:\n",
    "```\n",
    "sample/outlier/workload.sh\n",
    "```\n",
    "\n",
    "The script basically compiles the linux kernel a few times. For certain compiles\n",
    "it adds a background workload, so the compile takes longer. The slower job is marked\n",
    "with the an 'outlier' suffix. However, we will pretend we don't know the outlier\n",
    "and figure it out.\n",
    "\n",
    "Along the way, we will also learn how to create a trained model, and use it \n",
    "for future outlier detection.\n",
    "\n",
    "\n",
    "### Requirements\n",
    "\n",
    "You will need to import data lying in `sample/outlier/*.tgz`:\n",
    "```\n",
    "$ ./epmt -v submit sample/outlier/*.tgz\n"
   ]
  },
  {
   "cell_type": "code",
   "execution_count": 1,
   "metadata": {},
   "outputs": [
    {
     "name": "stderr",
     "output_type": "stream",
     "text": [
      "INFO:epmt_job:Binding to DB: {'host': 'localhost', 'user': 'postgres', 'password': 'example', 'dbname': 'EPMT', 'provider': 'postgres'}\n",
      "INFO:epmt_job:Generating mapping from schema...\n"
     ]
    },
    {
     "name": "stdout",
     "output_type": "stream",
     "text": [
      "{'host': 'localhost', 'user': 'postgres', 'password': 'example', 'dbname': 'EPMT', 'provider': 'postgres'}\n"
     ]
    }
   ],
   "source": [
    "import epmt_query as eq\n",
    "import epmt_outliers as eod"
   ]
  },
  {
   "cell_type": "code",
   "execution_count": 2,
   "metadata": {},
   "outputs": [
    {
     "data": {
      "text/plain": [
       "['kern-6656-20190614-185359',\n",
       " 'kern-6656-20190614-190245',\n",
       " 'kern-6656-20190614-191138',\n",
       " 'kern-6656-20190614-192044-outlier',\n",
       " 'kern-6656-20190614-194024',\n",
       " 'kern-6656-20190614-194953',\n",
       " 'kern-6656-20190614-195909',\n",
       " 'kern-6656-20190614-200819',\n",
       " 'kern-6656-20190614-201744-outlier']"
      ]
     },
     "execution_count": 2,
     "metadata": {},
     "output_type": "execute_result"
    }
   ],
   "source": [
    "jobs = eq.get_jobs(tag='exp_name:linux_kernel', fmt='terse')\n",
    "jobs"
   ]
  },
  {
   "cell_type": "code",
   "execution_count": 3,
   "metadata": {},
   "outputs": [
    {
     "data": {
      "text/html": [
       "<div>\n",
       "<table border=\"1\" class=\"dataframe\">\n",
       "  <thead>\n",
       "    <tr style=\"text-align: right;\">\n",
       "      <th></th>\n",
       "      <th>jobid</th>\n",
       "      <th>duration</th>\n",
       "      <th>cpu_time</th>\n",
       "      <th>num_procs</th>\n",
       "    </tr>\n",
       "  </thead>\n",
       "  <tbody>\n",
       "    <tr>\n",
       "      <th>0</th>\n",
       "      <td>kern-6656-20190614-185359</td>\n",
       "      <td>0</td>\n",
       "      <td>1</td>\n",
       "      <td>0</td>\n",
       "    </tr>\n",
       "    <tr>\n",
       "      <th>1</th>\n",
       "      <td>kern-6656-20190614-190245</td>\n",
       "      <td>0</td>\n",
       "      <td>0</td>\n",
       "      <td>0</td>\n",
       "    </tr>\n",
       "    <tr>\n",
       "      <th>2</th>\n",
       "      <td>kern-6656-20190614-191138</td>\n",
       "      <td>0</td>\n",
       "      <td>0</td>\n",
       "      <td>0</td>\n",
       "    </tr>\n",
       "    <tr>\n",
       "      <th>3</th>\n",
       "      <td>kern-6656-20190614-192044-outlier</td>\n",
       "      <td>1</td>\n",
       "      <td>1</td>\n",
       "      <td>0</td>\n",
       "    </tr>\n",
       "    <tr>\n",
       "      <th>4</th>\n",
       "      <td>kern-6656-20190614-194024</td>\n",
       "      <td>0</td>\n",
       "      <td>0</td>\n",
       "      <td>0</td>\n",
       "    </tr>\n",
       "    <tr>\n",
       "      <th>5</th>\n",
       "      <td>kern-6656-20190614-194953</td>\n",
       "      <td>0</td>\n",
       "      <td>0</td>\n",
       "      <td>0</td>\n",
       "    </tr>\n",
       "    <tr>\n",
       "      <th>6</th>\n",
       "      <td>kern-6656-20190614-195909</td>\n",
       "      <td>0</td>\n",
       "      <td>0</td>\n",
       "      <td>0</td>\n",
       "    </tr>\n",
       "    <tr>\n",
       "      <th>7</th>\n",
       "      <td>kern-6656-20190614-200819</td>\n",
       "      <td>0</td>\n",
       "      <td>0</td>\n",
       "      <td>0</td>\n",
       "    </tr>\n",
       "    <tr>\n",
       "      <th>8</th>\n",
       "      <td>kern-6656-20190614-201744-outlier</td>\n",
       "      <td>1</td>\n",
       "      <td>1</td>\n",
       "      <td>0</td>\n",
       "    </tr>\n",
       "  </tbody>\n",
       "</table>\n",
       "</div>"
      ],
      "text/plain": [
       "                               jobid  duration  cpu_time  num_procs\n",
       "0          kern-6656-20190614-185359         0         1          0\n",
       "1          kern-6656-20190614-190245         0         0          0\n",
       "2          kern-6656-20190614-191138         0         0          0\n",
       "3  kern-6656-20190614-192044-outlier         1         1          0\n",
       "4          kern-6656-20190614-194024         0         0          0\n",
       "5          kern-6656-20190614-194953         0         0          0\n",
       "6          kern-6656-20190614-195909         0         0          0\n",
       "7          kern-6656-20190614-200819         0         0          0\n",
       "8  kern-6656-20190614-201744-outlier         1         1          0"
      ]
     },
     "execution_count": 3,
     "metadata": {},
     "output_type": "execute_result"
    }
   ],
   "source": [
    "# As a first pass let's see whether the outliers can be auto-detected\n",
    "(df, fdict) = eod.detect_outlier_jobs(jobs)\n",
    "df"
   ]
  },
  {
   "cell_type": "markdown",
   "metadata": {},
   "source": [
    "As you can see, while we did catch both the outliers, there\n",
    "is also the \"false positive\" on one \"non-outlier\" process\n",
    "The reason the 1 is marked for `duration` and `cpu_time` but `not num_procs`\n",
    "is because the background compute process increased the job duration\n",
    "but not the number of sub-processes of our workload."
   ]
  },
  {
   "cell_type": "code",
   "execution_count": 4,
   "metadata": {},
   "outputs": [
    {
     "data": {
      "text/plain": [
       "{'cpu_time': ({'kern-6656-20190614-190245',\n",
       "   'kern-6656-20190614-191138',\n",
       "   'kern-6656-20190614-194024',\n",
       "   'kern-6656-20190614-194953',\n",
       "   'kern-6656-20190614-195909',\n",
       "   'kern-6656-20190614-200819'},\n",
       "  {'kern-6656-20190614-185359',\n",
       "   'kern-6656-20190614-192044-outlier',\n",
       "   'kern-6656-20190614-201744-outlier'}),\n",
       " 'duration': ({'kern-6656-20190614-185359',\n",
       "   'kern-6656-20190614-190245',\n",
       "   'kern-6656-20190614-191138',\n",
       "   'kern-6656-20190614-194024',\n",
       "   'kern-6656-20190614-194953',\n",
       "   'kern-6656-20190614-195909',\n",
       "   'kern-6656-20190614-200819'},\n",
       "  {'kern-6656-20190614-192044-outlier', 'kern-6656-20190614-201744-outlier'}),\n",
       " 'num_procs': ({'kern-6656-20190614-185359',\n",
       "   'kern-6656-20190614-190245',\n",
       "   'kern-6656-20190614-191138',\n",
       "   'kern-6656-20190614-192044-outlier',\n",
       "   'kern-6656-20190614-194024',\n",
       "   'kern-6656-20190614-194953',\n",
       "   'kern-6656-20190614-195909',\n",
       "   'kern-6656-20190614-200819',\n",
       "   'kern-6656-20190614-201744-outlier'},\n",
       "  set())}"
      ]
     },
     "execution_count": 4,
     "metadata": {},
     "output_type": "execute_result"
    }
   ],
   "source": [
    "fdict"
   ]
  },
  {
   "cell_type": "markdown",
   "metadata": {},
   "source": [
    "`fdict` the other return value is a dictionary keyed by `feature`. The value is a tuple of two partitions based on the `feature`. The first partition being the reference set, and the second partition is the outlier set.\n",
    "This partitioning <a name=\"partition-jobs\"></a> can be more simply obtained as follows:"
   ]
  },
  {
   "cell_type": "code",
   "execution_count": 5,
   "metadata": {},
   "outputs": [
    {
     "data": {
      "text/plain": [
       "{'duration': ({'kern-6656-20190614-185359',\n",
       "   'kern-6656-20190614-190245',\n",
       "   'kern-6656-20190614-191138',\n",
       "   'kern-6656-20190614-194024',\n",
       "   'kern-6656-20190614-194953',\n",
       "   'kern-6656-20190614-195909',\n",
       "   'kern-6656-20190614-200819'},\n",
       "  {'kern-6656-20190614-192044-outlier', 'kern-6656-20190614-201744-outlier'})}"
      ]
     },
     "execution_count": 5,
     "metadata": {},
     "output_type": "execute_result"
    }
   ],
   "source": [
    "parts = eod.partition_jobs(jobs, features=['duration'])\n",
    "parts"
   ]
  },
  {
   "cell_type": "markdown",
   "metadata": {},
   "source": [
    "Above, we just got the partitioning of the jobs on a single `feature` -- `duration`."
   ]
  },
  {
   "cell_type": "markdown",
   "metadata": {},
   "source": [
    "Now would be a good time to <a name=\"create-ref-model\"></a>create a trained model based on the\n",
    "set of jobs in the reference partition:"
   ]
  },
  {
   "cell_type": "code",
   "execution_count": 6,
   "metadata": {},
   "outputs": [
    {
     "data": {
      "text/plain": [
       "{'kern-6656-20190614-185359',\n",
       " 'kern-6656-20190614-190245',\n",
       " 'kern-6656-20190614-191138',\n",
       " 'kern-6656-20190614-194024',\n",
       " 'kern-6656-20190614-194953',\n",
       " 'kern-6656-20190614-195909',\n",
       " 'kern-6656-20190614-200819'}"
      ]
     },
     "execution_count": 6,
     "metadata": {},
     "output_type": "execute_result"
    }
   ],
   "source": [
    "ref_jobs = parts['duration'][0]\n",
    "ref_jobs"
   ]
  },
  {
   "cell_type": "code",
   "execution_count": 7,
   "metadata": {},
   "outputs": [],
   "source": [
    "r = eq.create_refmodel(ref_jobs, tag='exp_name:linux_kernel;type:ref')"
   ]
  },
  {
   "cell_type": "code",
   "execution_count": 8,
   "metadata": {},
   "outputs": [
    {
     "data": {
      "text/plain": [
       "(4, {'exp_name': 'linux_kernel', 'type': 'ref'})"
      ]
     },
     "execution_count": 8,
     "metadata": {},
     "output_type": "execute_result"
    }
   ],
   "source": [
    "r['id'], r['tags']"
   ]
  },
  {
   "cell_type": "markdown",
   "metadata": {},
   "source": [
    "We added a tag to help search for this trained/ref model later."
   ]
  },
  {
   "cell_type": "code",
   "execution_count": 9,
   "metadata": {},
   "outputs": [
    {
     "data": {
      "text/html": [
       "<div>\n",
       "<table border=\"1\" class=\"dataframe\">\n",
       "  <thead>\n",
       "    <tr style=\"text-align: right;\">\n",
       "      <th></th>\n",
       "      <th>jobid</th>\n",
       "      <th>duration</th>\n",
       "      <th>cpu_time</th>\n",
       "      <th>num_procs</th>\n",
       "    </tr>\n",
       "  </thead>\n",
       "  <tbody>\n",
       "    <tr>\n",
       "      <th>0</th>\n",
       "      <td>kern-6656-20190614-185359</td>\n",
       "      <td>0</td>\n",
       "      <td>0</td>\n",
       "      <td>0</td>\n",
       "    </tr>\n",
       "    <tr>\n",
       "      <th>1</th>\n",
       "      <td>kern-6656-20190614-190245</td>\n",
       "      <td>0</td>\n",
       "      <td>0</td>\n",
       "      <td>0</td>\n",
       "    </tr>\n",
       "    <tr>\n",
       "      <th>2</th>\n",
       "      <td>kern-6656-20190614-191138</td>\n",
       "      <td>0</td>\n",
       "      <td>0</td>\n",
       "      <td>0</td>\n",
       "    </tr>\n",
       "    <tr>\n",
       "      <th>3</th>\n",
       "      <td>kern-6656-20190614-192044-outlier</td>\n",
       "      <td>1</td>\n",
       "      <td>1</td>\n",
       "      <td>0</td>\n",
       "    </tr>\n",
       "    <tr>\n",
       "      <th>4</th>\n",
       "      <td>kern-6656-20190614-194024</td>\n",
       "      <td>0</td>\n",
       "      <td>0</td>\n",
       "      <td>0</td>\n",
       "    </tr>\n",
       "    <tr>\n",
       "      <th>5</th>\n",
       "      <td>kern-6656-20190614-194953</td>\n",
       "      <td>0</td>\n",
       "      <td>0</td>\n",
       "      <td>0</td>\n",
       "    </tr>\n",
       "    <tr>\n",
       "      <th>6</th>\n",
       "      <td>kern-6656-20190614-195909</td>\n",
       "      <td>0</td>\n",
       "      <td>0</td>\n",
       "      <td>0</td>\n",
       "    </tr>\n",
       "    <tr>\n",
       "      <th>7</th>\n",
       "      <td>kern-6656-20190614-200819</td>\n",
       "      <td>0</td>\n",
       "      <td>0</td>\n",
       "      <td>0</td>\n",
       "    </tr>\n",
       "    <tr>\n",
       "      <th>8</th>\n",
       "      <td>kern-6656-20190614-201744-outlier</td>\n",
       "      <td>1</td>\n",
       "      <td>1</td>\n",
       "      <td>0</td>\n",
       "    </tr>\n",
       "  </tbody>\n",
       "</table>\n",
       "</div>"
      ],
      "text/plain": [
       "                               jobid  duration  cpu_time  num_procs\n",
       "0          kern-6656-20190614-185359         0         0          0\n",
       "1          kern-6656-20190614-190245         0         0          0\n",
       "2          kern-6656-20190614-191138         0         0          0\n",
       "3  kern-6656-20190614-192044-outlier         1         1          0\n",
       "4          kern-6656-20190614-194024         0         0          0\n",
       "5          kern-6656-20190614-194953         0         0          0\n",
       "6          kern-6656-20190614-195909         0         0          0\n",
       "7          kern-6656-20190614-200819         0         0          0\n",
       "8  kern-6656-20190614-201744-outlier         1         1          0"
      ]
     },
     "execution_count": 9,
     "metadata": {},
     "output_type": "execute_result"
    }
   ],
   "source": [
    "# using the trained model is as simple as:\n",
    "(df, _) = eod.detect_outlier_jobs(jobs, trained_model = r['id'])\n",
    "df"
   ]
  },
  {
   "cell_type": "markdown",
   "metadata": {},
   "source": [
    "Obviously the jobs that were used to create the reference model will not be \n",
    "classifed as outliers for any feature."
   ]
  },
  {
   "cell_type": "markdown",
   "metadata": {},
   "source": [
    "This marks the end of this case study. In a following study we will explore how\n",
    "to detect outliers in individual operations and create a trained model for ops."
   ]
  },
  {
   "cell_type": "markdown",
   "metadata": {},
   "source": [
    "## <a name=\"rca-jobs\"></a> Case Study II - Root Cause Analysis\n",
    "\n",
    "In this study we will do an RCA with real data generated from GFDL PP runs.\n",
    "\n",
    "```\n",
    "$ ./epmt -v submit $(cat <<EOT\n",
    "> sample/ppr-batch/1854/625151.tgz\n",
    "> sample/ppr-batch/1859/627907.tgz\n",
    "> sample/ppr-batch/1869/633114.tgz\n",
    "> sample/ppr-batch/1864/629322.tgz\n",
    "> sample/ppr-batch/1884/685001.tgz\n",
    "> sample/ppr-batch/1874/675992.tgz\n",
    "> sample/ppr-batch/1879/680163.tgz\n",
    "> sample/ppr-batch/1889/691209.tgz\n",
    "> sample/ppr-batch/1894/693129.tgz\n",
    "> EOT\n",
    "> )\n",
    "```\n",
    "\n",
    "All these jobs share the following tags: `{u'ocn_res': u'0.5l75', u'atm_res': u'c96l49', u'exp_component': u'ocean_annual_z_1x1deg', u'exp_name': u'ESM4_historical_D151'`. The difference is only that they have different values for `('exp_time', 'script_name')`.\n",
    "\n",
    "If you are curious how we found these comparable jobs, here is the query:\n",
    "```\n",
    ">>> x = Job.select(lambda j: j.tags['exp_component'] == 'ocean_annual_z_1x1deg').filter(lambda j: j.tags['exp_name'] == 'ESM4_historical_D151')\n",
    ">>> eq.get_jobs(x, fmt=\"terse\")\n",
    "```"
   ]
  },
  {
   "cell_type": "code",
   "execution_count": 10,
   "metadata": {},
   "outputs": [
    {
     "data": {
      "text/plain": [
       "['625151',\n",
       " '627907',\n",
       " '633114',\n",
       " '629322',\n",
       " '685001',\n",
       " '675992',\n",
       " '680163',\n",
       " '802938',\n",
       " '691209',\n",
       " '693129',\n",
       " '696110',\n",
       " '804266']"
      ]
     },
     "execution_count": 10,
     "metadata": {},
     "output_type": "execute_result"
    }
   ],
   "source": [
    "jobs = eq.get_jobs(tag=\"exp_name:ESM4_historical_D151;exp_component:ocean_annual_z_1x1deg\", fmt='terse')\n",
    "jobs"
   ]
  },
  {
   "cell_type": "markdown",
   "metadata": {},
   "source": [
    "Now, let's partition the jobs by `cpu_time`: "
   ]
  },
  {
   "cell_type": "code",
   "execution_count": 11,
   "metadata": {},
   "outputs": [
    {
     "data": {
      "text/plain": [
       "{'cpu_time': ({'627907',\n",
       "   '629322',\n",
       "   '633114',\n",
       "   '675992',\n",
       "   '680163',\n",
       "   '685001',\n",
       "   '691209',\n",
       "   '693129',\n",
       "   '696110',\n",
       "   '802938',\n",
       "   '804266'},\n",
       "  {'625151'})}"
      ]
     },
     "execution_count": 11,
     "metadata": {},
     "output_type": "execute_result"
    }
   ],
   "source": [
    "parts = eod.partition_jobs(jobs, features=['cpu_time'])\n",
    "parts"
   ]
  },
  {
   "cell_type": "markdown",
   "metadata": {},
   "source": [
    "As you can see, the first partition contains 9 conformant jobs, and the outlier\n",
    "partition contains a single job `625151`. Let's see how different is the `cpu_time`\n",
    "of this job v. the rest:"
   ]
  },
  {
   "cell_type": "code",
   "execution_count": 12,
   "metadata": {},
   "outputs": [
    {
     "data": {
      "text/plain": [
       "array(['PERF_COUNT_SW_CPU_CLOCK', 'account', 'all_proc_tags',\n",
       "       'cancelled_write_bytes', 'cpu_time', 'created_at',\n",
       "       'delayacct_blkio_time', 'duration', 'end', 'env_changes_dict',\n",
       "       'env_dict', 'exitcode', 'guest_time', 'inblock', 'info_dict',\n",
       "       'invol_ctxsw', 'jobid', 'jobname', 'jobscriptname', 'majflt',\n",
       "       'minflt', 'num_procs', 'num_threads', 'outblock', 'processor',\n",
       "       'queue', 'rchar', 'rdtsc_duration', 'read_bytes', 'rssmax',\n",
       "       'sessionid', 'start', 'submit', 'syscr', 'syscw', 'systemtime',\n",
       "       'tags', 'time_oncpu', 'time_waiting', 'timeslices', 'updated_at',\n",
       "       'user', 'user+system', 'usertime', 'vol_ctxsw', 'wchar',\n",
       "       'write_bytes'], dtype=object)"
      ]
     },
     "metadata": {},
     "output_type": "display_data"
    },
    {
     "data": {
      "text/html": [
       "<div>\n",
       "<table border=\"1\" class=\"dataframe\">\n",
       "  <thead>\n",
       "    <tr style=\"text-align: right;\">\n",
       "      <th></th>\n",
       "      <th>jobid</th>\n",
       "      <th>cpu_time</th>\n",
       "      <th>duration</th>\n",
       "      <th>num_procs</th>\n",
       "    </tr>\n",
       "  </thead>\n",
       "  <tbody>\n",
       "    <tr>\n",
       "      <th>0</th>\n",
       "      <td>625151</td>\n",
       "      <td>1224444629</td>\n",
       "      <td>10425623185</td>\n",
       "      <td>13530</td>\n",
       "    </tr>\n",
       "    <tr>\n",
       "      <th>1</th>\n",
       "      <td>627907</td>\n",
       "      <td>694594906</td>\n",
       "      <td>6589174875</td>\n",
       "      <td>4411</td>\n",
       "    </tr>\n",
       "    <tr>\n",
       "      <th>2</th>\n",
       "      <td>629322</td>\n",
       "      <td>622137956</td>\n",
       "      <td>7286331754</td>\n",
       "      <td>4411</td>\n",
       "    </tr>\n",
       "    <tr>\n",
       "      <th>3</th>\n",
       "      <td>802938</td>\n",
       "      <td>558475582</td>\n",
       "      <td>3986871458</td>\n",
       "      <td>4411</td>\n",
       "    </tr>\n",
       "    <tr>\n",
       "      <th>4</th>\n",
       "      <td>691209</td>\n",
       "      <td>536679993</td>\n",
       "      <td>860163243</td>\n",
       "      <td>4411</td>\n",
       "    </tr>\n",
       "    <tr>\n",
       "      <th>5</th>\n",
       "      <td>804266</td>\n",
       "      <td>535237219</td>\n",
       "      <td>3285839213</td>\n",
       "      <td>4411</td>\n",
       "    </tr>\n",
       "    <tr>\n",
       "      <th>6</th>\n",
       "      <td>693129</td>\n",
       "      <td>533686454</td>\n",
       "      <td>3619324767</td>\n",
       "      <td>4411</td>\n",
       "    </tr>\n",
       "    <tr>\n",
       "      <th>7</th>\n",
       "      <td>675992</td>\n",
       "      <td>520837207</td>\n",
       "      <td>9114150525</td>\n",
       "      <td>4411</td>\n",
       "    </tr>\n",
       "    <tr>\n",
       "      <th>8</th>\n",
       "      <td>685001</td>\n",
       "      <td>480310481</td>\n",
       "      <td>6815710476</td>\n",
       "      <td>4428</td>\n",
       "    </tr>\n",
       "    <tr>\n",
       "      <th>9</th>\n",
       "      <td>680163</td>\n",
       "      <td>462936089</td>\n",
       "      <td>6156192011</td>\n",
       "      <td>4411</td>\n",
       "    </tr>\n",
       "    <tr>\n",
       "      <th>10</th>\n",
       "      <td>633114</td>\n",
       "      <td>457180929</td>\n",
       "      <td>6036720046</td>\n",
       "      <td>4445</td>\n",
       "    </tr>\n",
       "    <tr>\n",
       "      <th>11</th>\n",
       "      <td>696110</td>\n",
       "      <td>375760788</td>\n",
       "      <td>3515139552</td>\n",
       "      <td>4411</td>\n",
       "    </tr>\n",
       "  </tbody>\n",
       "</table>\n",
       "</div>"
      ],
      "text/plain": [
       "     jobid    cpu_time     duration  num_procs\n",
       "0   625151  1224444629  10425623185      13530\n",
       "1   627907   694594906   6589174875       4411\n",
       "2   629322   622137956   7286331754       4411\n",
       "3   802938   558475582   3986871458       4411\n",
       "4   691209   536679993    860163243       4411\n",
       "5   804266   535237219   3285839213       4411\n",
       "6   693129   533686454   3619324767       4411\n",
       "7   675992   520837207   9114150525       4411\n",
       "8   685001   480310481   6815710476       4428\n",
       "9   680163   462936089   6156192011       4411\n",
       "10  633114   457180929   6036720046       4445\n",
       "11  696110   375760788   3515139552       4411"
      ]
     },
     "execution_count": 12,
     "metadata": {},
     "output_type": "execute_result"
    }
   ],
   "source": [
    "jobs_df = eq.get_jobs(jobs, fmt='pandas', order='desc(j.cpu_time)')\n",
    "display(jobs_df.columns.values)\n",
    "jobs_df[['jobid', 'cpu_time', 'duration', 'num_procs']]"
   ]
  },
  {
   "cell_type": "markdown",
   "metadata": {},
   "source": [
    "It's really interesting that the outlier has thrice the number of processes\n",
    "as the others. Let's see if we can uncover more.."
   ]
  },
  {
   "cell_type": "code",
   "execution_count": 13,
   "metadata": {},
   "outputs": [
    {
     "data": {
      "text/plain": [
       "({'627907',\n",
       "  '629322',\n",
       "  '633114',\n",
       "  '675992',\n",
       "  '680163',\n",
       "  '685001',\n",
       "  '691209',\n",
       "  '693129',\n",
       "  '696110',\n",
       "  '802938',\n",
       "  '804266'},\n",
       " {'625151'})"
      ]
     },
     "execution_count": 13,
     "metadata": {},
     "output_type": "execute_result"
    }
   ],
   "source": [
    "(refs, outl) = parts['cpu_time']\n",
    "(refs, outl)"
   ]
  },
  {
   "cell_type": "code",
   "execution_count": 14,
   "metadata": {},
   "outputs": [
    {
     "data": {
      "text/html": [
       "<div>\n",
       "<table border=\"1\" class=\"dataframe\">\n",
       "  <thead>\n",
       "    <tr style=\"text-align: right;\">\n",
       "      <th></th>\n",
       "      <th>num_procs</th>\n",
       "      <th>cpu_time</th>\n",
       "      <th>duration</th>\n",
       "    </tr>\n",
       "  </thead>\n",
       "  <tbody>\n",
       "    <tr>\n",
       "      <th>count</th>\n",
       "      <td>1.100000e+01</td>\n",
       "      <td>1.100000e+01</td>\n",
       "      <td>1.100000e+01</td>\n",
       "    </tr>\n",
       "    <tr>\n",
       "      <th>mean</th>\n",
       "      <td>4.415636e+03</td>\n",
       "      <td>5.252580e+08</td>\n",
       "      <td>5.205965e+09</td>\n",
       "    </tr>\n",
       "    <tr>\n",
       "      <th>std</th>\n",
       "      <td>1.099339e+01</td>\n",
       "      <td>8.507230e+07</td>\n",
       "      <td>2.348081e+09</td>\n",
       "    </tr>\n",
       "    <tr>\n",
       "      <th>min</th>\n",
       "      <td>4.411000e+03</td>\n",
       "      <td>3.757608e+08</td>\n",
       "      <td>8.601632e+08</td>\n",
       "    </tr>\n",
       "    <tr>\n",
       "      <th>25%</th>\n",
       "      <td>4.411000e+03</td>\n",
       "      <td>4.716233e+08</td>\n",
       "      <td>3.567232e+09</td>\n",
       "    </tr>\n",
       "    <tr>\n",
       "      <th>50%</th>\n",
       "      <td>4.411000e+03</td>\n",
       "      <td>5.336865e+08</td>\n",
       "      <td>6.036720e+09</td>\n",
       "    </tr>\n",
       "    <tr>\n",
       "      <th>75%</th>\n",
       "      <td>4.411000e+03</td>\n",
       "      <td>5.475778e+08</td>\n",
       "      <td>6.702443e+09</td>\n",
       "    </tr>\n",
       "    <tr>\n",
       "      <th>max</th>\n",
       "      <td>4.445000e+03</td>\n",
       "      <td>6.945949e+08</td>\n",
       "      <td>9.114151e+09</td>\n",
       "    </tr>\n",
       "    <tr>\n",
       "      <th>input</th>\n",
       "      <td>1.353000e+04</td>\n",
       "      <td>1.224445e+09</td>\n",
       "      <td>1.042562e+10</td>\n",
       "    </tr>\n",
       "    <tr>\n",
       "      <th>ref_max_modified_z_score</th>\n",
       "      <td>inf</td>\n",
       "      <td>2.033400e+00</td>\n",
       "      <td>1.703300e+00</td>\n",
       "    </tr>\n",
       "    <tr>\n",
       "      <th>modified_z_score</th>\n",
       "      <td>inf</td>\n",
       "      <td>8.729000e+00</td>\n",
       "      <td>1.444200e+00</td>\n",
       "    </tr>\n",
       "    <tr>\n",
       "      <th>modified_z_score_ratio</th>\n",
       "      <td>NaN</td>\n",
       "      <td>4.292810e+00</td>\n",
       "      <td>8.478835e-01</td>\n",
       "    </tr>\n",
       "  </tbody>\n",
       "</table>\n",
       "</div>"
      ],
      "text/plain": [
       "                             num_procs      cpu_time      duration\n",
       "count                     1.100000e+01  1.100000e+01  1.100000e+01\n",
       "mean                      4.415636e+03  5.252580e+08  5.205965e+09\n",
       "std                       1.099339e+01  8.507230e+07  2.348081e+09\n",
       "min                       4.411000e+03  3.757608e+08  8.601632e+08\n",
       "25%                       4.411000e+03  4.716233e+08  3.567232e+09\n",
       "50%                       4.411000e+03  5.336865e+08  6.036720e+09\n",
       "75%                       4.411000e+03  5.475778e+08  6.702443e+09\n",
       "max                       4.445000e+03  6.945949e+08  9.114151e+09\n",
       "input                     1.353000e+04  1.224445e+09  1.042562e+10\n",
       "ref_max_modified_z_score           inf  2.033400e+00  1.703300e+00\n",
       "modified_z_score                   inf  8.729000e+00  1.444200e+00\n",
       "modified_z_score_ratio             NaN  4.292810e+00  8.478835e-01"
      ]
     },
     "execution_count": 14,
     "metadata": {},
     "output_type": "execute_result"
    }
   ],
   "source": [
    "(_, df, flist) = eod.detect_rootcause(refs, '625151')\n",
    "df"
   ]
  },
  {
   "cell_type": "markdown",
   "metadata": {},
   "source": []
  }
 ],
 "metadata": {
  "kernelspec": {
   "display_name": "Python 3",
   "language": "python",
   "name": "python3"
  },
  "language_info": {
   "codemirror_mode": {
    "name": "ipython",
    "version": 3
   },
   "file_extension": ".py",
   "mimetype": "text/x-python",
   "name": "python",
   "nbconvert_exporter": "python",
   "pygments_lexer": "ipython3",
   "version": "3.5.2"
  }
 },
 "nbformat": 4,
 "nbformat_minor": 2
}
