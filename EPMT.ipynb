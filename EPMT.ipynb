{
 "cells": [
  {
   "cell_type": "code",
   "execution_count": 1,
   "metadata": {},
   "outputs": [],
   "source": [
    "import settings\n",
    "from models import *\n",
    "from epmt_job import setup_orm_db\n",
    "import fnmatch\n",
    "\n",
    "setup_orm_db()\n"
   ]
  },
  {
   "cell_type": "code",
   "execution_count": 2,
   "metadata": {},
   "outputs": [],
   "source": [
    "%matplotlib inline\n",
    "import matplotlib.pyplot as plt\n",
    "import numpy as np\n",
    "plt.rcParams['figure.figsize'] = [15, 8]\n",
    "\n",
    "def barplot(labels=[], y_val=[], mn=\"None\", yscale=\"log\", title_suffix=\"by executable\"):\n",
    "    index = np.arange(len(labels))\n",
    "    plt.yscale(yscale)\n",
    "    plt.bar(index, y_val)\n",
    "# performance, align='center', alpha=0.5)\n",
    "    plt.xticks(index, labels, fontsize=10, rotation=45)\n",
    "# y_pos, objects)\n",
    "    plt.ylabel(mn)\n",
    "    plt.title(mn+' '+title_suffix)\n",
    "    plt.show()\n",
    "\n",
    "def barplot_stack(labels=[], y_val=[], y2_val=[], mn=[], yscale=\"log\", ylim=(), title_suffix=\"by executable\"):\n",
    "    index = np.arange(len(labels))\n",
    "    plt.yscale(yscale)\n",
    "    p1 = plt.bar(index, y_val, color='r')\n",
    "    p2 = plt.bar(index, y2_val, bottom=y_val, color='g')\n",
    "# performance, align='center', alpha=0.5)\n",
    "    plt.xticks(index, labels, fontsize=10, rotation=45)\n",
    "# y_pos, objects)\n",
    "    plt.ylabel(mn[0]+\"+\"+mn[1])\n",
    "    plt.legend((p1[0], p2[0]), (mn[0], mn[1]))\n",
    "    plt.title(mn[0]+\"+\"+mn[1]+' '+title_suffix)\n",
    "    plt.ylim(ylim)\n",
    "    plt.show()\n",
    "\n"
   ]
  },
  {
   "cell_type": "code",
   "execution_count": 3,
   "metadata": {},
   "outputs": [],
   "source": [
    "def get_job_list():\n",
    "    q = select(j for j in Job)\n",
    "    return q[:]\n",
    "    \n",
    "# Return list of objects for jobid\n",
    "\n",
    "def get_processes_job(jobid):\n",
    "    # lookup job\n",
    "    try:\n",
    "        j = Job[jobid]\n",
    "    except Exception as e:\n",
    "        print \"not found\",e\n",
    "        return None\n",
    "    print \"Found job\",jobid,\"with\",len(j.processes),\"processes and\",len(j.processes.threads),\"threads\"\n",
    "    return j.processes\n",
    "    \n",
    "# Reduce all processes by executable name and return sums of metric\n",
    "\n",
    "    # we could do this with a query, maybe\n",
    "    # processes=select((p.exename, sum(p.duration), count(p)) for p in Process if p.job == j).order_by(-2)\n",
    "    #    for p in processes:\n",
    "    #        threads += p.threads\n",
    "\n",
    "def get_job_processes_reduce_attr(jobid, attr_name, cutoff=0.0, exelen=10):\n",
    "    processes = get_processes_job(jobid)\n",
    "    if not processes:\n",
    "        return\n",
    "    proc_dict={}\n",
    "    total = 0.0\n",
    "    for p in processes:\n",
    "        exename = p.exename[:exelen]\n",
    "        if exename not in proc_dict:\n",
    "            proc_dict[exename] = {}\n",
    "            proc_dict[exename][\"count\"] = 1\n",
    "            proc_dict[exename][\"threads\"] = len(p.threads)\n",
    "            proc_dict[exename][attr_name] = getattr(p, attr_name)\n",
    "        else:\n",
    "            proc_dict[exename][\"count\"] += 1\n",
    "            proc_dict[exename][\"threads\"] += len(p.threads)\n",
    "            proc_dict[exename][attr_name] += getattr(p, attr_name)\n",
    "        total += getattr(p, attr_name)\n",
    "    \n",
    "    if cutoff > 0.0:\n",
    "        for key in proc_dict.keys():\n",
    "            if proc_dict[key][attr_name] < cutoff:\n",
    "                del proc_dict[key]\n",
    "       \n",
    "    return (total, proc_dict)\n",
    "\n",
    "# Reduce all processes by executable name and return sums of metric\n",
    "\n",
    "def get_job_processes_full_attr(processes, attr_name, cutoff=0.0, exelen=10):\n",
    "    proc_dict={}\n",
    "    total = 0.0\n",
    "    for p in processes:\n",
    "        exename = p.exename[:exelen] \n",
    "        if exename not in proc_dict:\n",
    "            proc_dict[exename] = {}\n",
    "            proc_dict[exename][attr_name] = [getattr(p, attr_name)]\n",
    "            proc_dict[exename][\"start\"] = [getattr(p, \"start\")]                     \n",
    "        else:\n",
    "            proc_dict[exename][attr_name].append(getattr(p, attr_name))\n",
    "            proc_dict[exename][\"start\"].append(getattr(p, \"start\"))\n",
    "        total += getattr(p, attr_name)\n",
    "    \n",
    "    if cutoff > 0.0:\n",
    "        for key in proc_dict.keys():\n",
    "            if proc_dict[key][attr_name] < cutoff:\n",
    "                del proc_dict[key]\n",
    "       \n",
    "    return (total, proc_dict)"
   ]
  },
  {
   "cell_type": "code",
   "execution_count": 4,
   "metadata": {},
   "outputs": [
    {
     "name": "stdout",
     "output_type": "stream",
     "text": [
      "20294924.moab01.princeton.rdhpcs.noaa.gov from 2019-02-15 17:48:39.246671 to 2019-02-15 19:03:26.082247 by Jeffrey.Durachta took 4486.835576 s.\n",
      "20294925.moab01.princeton.rdhpcs.noaa.gov from 2019-02-15 17:48:39.250163 to 2019-02-15 18:56:55.801626 by Jeffrey.Durachta took 4096.551463 s.\n",
      "20294926.moab01.princeton.rdhpcs.noaa.gov from 2019-02-15 17:48:39.250799 to 2019-02-15 19:12:04.238002 by Jeffrey.Durachta took 5004.987203 s.\n",
      "20294927.moab01.princeton.rdhpcs.noaa.gov from 2019-02-15 17:48:39.255221 to 2019-02-15 18:53:16.331338 by Jeffrey.Durachta took 3877.076117 s.\n",
      "20294929.moab01.princeton.rdhpcs.noaa.gov from 2019-02-15 17:48:39.250164 to 2019-02-15 18:41:00.026465 by Jeffrey.Durachta took 3140.776301 s.\n",
      "20294930.moab01.princeton.rdhpcs.noaa.gov from 2019-02-15 17:48:39.247442 to 2019-02-15 18:17:11.148370 by Jeffrey.Durachta took 1711.900928 s.\n",
      "20294931.moab01.princeton.rdhpcs.noaa.gov from 2019-02-15 17:48:39.249980 to 2019-02-15 19:09:26.921158 by Jeffrey.Durachta took 4847.671178 s.\n"
     ]
    }
   ],
   "source": [
    "js = get_job_list()\n",
    "for j in js:\n",
    "    print j.jobid,\"from\",j.start,\"to\",j.end,\"by\",j.user.name,\"took\",j.duration/1e6,\"s.\"\n"
   ]
  },
  {
   "cell_type": "code",
   "execution_count": 5,
   "metadata": {},
   "outputs": [
    {
     "name": "stdout",
     "output_type": "stream",
     "text": [
      "Found job 20294924.moab01.princeton.rdhpcs.noaa.gov with 37464 processes and 42314 threads\n"
     ]
    },
    {
     "data": {
      "image/png": "[encoded data removed]",
      "text/plain": [
       "<Figure size 432x288 with 1 Axes>"
      ]
     },
     "metadata": {
      "needs_background": "light"
     },
     "output_type": "display_data"
    },
    {
     "data": {
      "image/png": "[encoded data removed]",
      "text/plain": [
       "<Figure size 432x288 with 1 Axes>"
      ]
     },
     "metadata": {
      "needs_background": "light"
     },
     "output_type": "display_data"
    },
    {
     "data": {
      "image/png": "[encoded data removed]",
      "text/plain": [
       "<Figure size 432x288 with 1 Axes>"
      ]
     },
     "metadata": {
      "needs_background": "light"
     },
     "output_type": "display_data"
    }
   ],
   "source": [
    "j = js[0].jobid\n",
    "total, proc_dict = get_job_processes_reduce_attr(jobid=j, attr_name='duration', cutoff=1000000.0)\n",
    "labels = []\n",
    "y_val = []\n",
    "y_val2 = []\n",
    "y_val3 = []\n",
    "labels = sorted(proc_dict.keys())\n",
    "labels = sorted(proc_dict, key=lambda k: (proc_dict[k][\"duration\"]), reverse=True)\n",
    "for k in labels:\n",
    "    value = proc_dict[k]\n",
    "    y_val3.append(value[\"duration\"]/value[\"count\"])\n",
    "    y_val.append(value[\"duration\"])\n",
    "    y_val2.append(value[\"count\"])\n",
    "    \n",
    "barplot(labels=labels,y_val=y_val,mn=\"wall clock duration\")\n",
    "barplot(labels=labels,y_val=y_val2,mn=\"invocations\")\n",
    "barplot(labels=labels,y_val=y_val3,mn=\"average wall clock duration\")\n",
    "\n"
   ]
  },
  {
   "cell_type": "code",
   "execution_count": 6,
   "metadata": {},
   "outputs": [],
   "source": [
    "# Return list of objects for jobid\n",
    "\n",
    "def get_processes_job_filter(jobid, pat=None):\n",
    "    query = select ((p.exename, p.start, p.duration) for p in Process \n",
    "                    if p.job in select(j for j in Job if j.jobid == jobid)).order_by(2)\n",
    "    if pat:\n",
    "        query = query.filter(lambda p, q, r: p.startswith(pat))\n",
    "    return query[:]"
   ]
  },
  {
   "cell_type": "code",
   "execution_count": 7,
   "metadata": {},
   "outputs": [
    {
     "data": {
      "image/png": "[encoded data removed]",
      "text/plain": [
       "<Figure size 432x288 with 1 Axes>"
      ]
     },
     "metadata": {
      "needs_background": "light"
     },
     "output_type": "display_data"
    }
   ],
   "source": [
    "a = get_processes_job_filter(jobid=j)    \n",
    "b = zip(*a)\n",
    "plt.plot([],[])\n",
    "plt.scatter(b[1],b[2])\n",
    "plt.gcf().autofmt_xdate()\n",
    "\n",
    "plt.show() \n",
    "#    value[\"duration\"]\n",
    "    #y_val.append()\n",
    "#    print value[\"start\"]\n",
    "    #x_val.append(value[\"start\"])\n",
    "\n",
    "#x_val = [i for i in range(len(y_val))]\n",
    "#print x_val, len(y_val)\n",
    "##barplot(labels=labels,y_val=y_val3,mn=\"average wall clock duration\")\n",
    "#barplot(labels=labels,y_val=y_val,mn=\"wall clock duration\")\n",
    "#barplot(labels=labels,y_val=y_val2,mn=\"invocations\")"
   ]
  },
  {
   "cell_type": "code",
   "execution_count": 278,
   "metadata": {},
   "outputs": [
    {
     "name": "stdout",
     "output_type": "stream",
     "text": [
      "PERF_COUNT_SW_CPU_CLOCK [(114692.0, Thread[3]), (246946.0, Thread[5])]\n",
      "cancelled_write_bytes [(0.0, Thread[3]), (0.0, Thread[5])]\n",
      "delayacct_blkio_time [(0.0, Thread[3]), (0.0, Thread[5])]\n",
      "guest_time [(0.0, Thread[3]), (0.0, Thread[5])]\n",
      "inblock [(0.0, Thread[3]), (0.0, Thread[5])]\n",
      "invol_ctxsw [(2.0, Thread[3]), (1.0, Thread[5])]\n",
      "majflt [(0.0, Thread[3]), (0.0, Thread[5])]\n",
      "minflt [(389.0, Thread[3]), (390.0, Thread[5])]\n",
      "num_threads [(1.0, Thread[3]), (1.0, Thread[5])]\n",
      "outblock [(0.0, Thread[3]), (0.0, Thread[5])]\n",
      "processor [(3.0, Thread[3]), (3.0, Thread[5])]\n",
      "rchar [(17394.0, Thread[3]), (17392.0, Thread[5])]\n",
      "rdtsc_duration [(394174.0, Thread[3]), (849170.0, Thread[5])]\n",
      "read_bytes [(0.0, Thread[3]), (0.0, Thread[5])]\n",
      "rssmax [(2908.0, Thread[3]), (2900.0, Thread[5])]\n",
      "starttime [(1826347780000.0, Thread[3]), (1825785530000.0, Thread[5])]\n",
      "syscr [(39.0, Thread[3]), (39.0, Thread[5])]\n",
      "syscw [(0.0, Thread[3]), (0.0, Thread[5])]\n",
      "systemtime [(0.0, Thread[3]), (0.0, Thread[5])]\n",
      "time_oncpu [(3672781.0, Thread[3]), (3788722.0, Thread[5])]\n",
      "time_waiting [(35934.0, Thread[3]), (7836.0, Thread[5])]\n",
      "timeslices [(3.0, Thread[3]), (2.0, Thread[5])]\n",
      "usertime [(2999.0, Thread[3]), (2999.0, Thread[5])]\n",
      "vol_ctxsw [(0.0, Thread[3]), (0.0, Thread[5])]\n",
      "wchar [(0.0, Thread[3]), (0.0, Thread[5])]\n",
      "write_bytes [(0.0, Thread[3]), (0.0, Thread[5])]\n"
     ]
    }
   ],
   "source": [
    "\n",
    "\n",
    "# Lets examine tcsh\n",
    "\n",
    "q = Process.select(lambda p: p.job==js[0] and p.exename==\"tcsh\").without_distinct()\n",
    "q = select(p.threads.metrics for p in q).without_distinct()\n",
    "q = select((m.value,m.metricname.name,m.thread) for m in q).without_distinct().order_by(3)\n",
    "# order by is important as it always produces the same order of threads\n",
    "meas = {}\n",
    "for m in q[:]:\n",
    "    if m[1] not in meas:\n",
    "        meas[m[1]] = [ (m[0], m[2]) ]\n",
    "    else:\n",
    "        meas[m[1]].append( (m[0], m[2]) )\n"
   ]
  },
  {
   "cell_type": "code",
   "execution_count": 284,
   "metadata": {},
   "outputs": [
    {
     "name": "stdout",
     "output_type": "stream",
     "text": [
      "Thread[41211] Process[36496]\n",
      "Multiset({0.0: 2, 1.0: 1, 8.0: 1, 220.0: 1, 1949.0: 1, 3441.0: 1, 4096.0: 1, 4528.0: 1, 7960.0: 1, 8048.0: 1, 8181.0: 1, 27552.0: 1, 88964.0: 1, 151508.0: 1, 383132.0: 1, 872867.0: 1, 894863.0: 1, 2520000.0: 1, 4120576.0: 1, 14106624.0: 1, 17221703.0: 1, 1570974729.0: 1, 1768347538.0: 1, 1824921900000.0: 1, 15514802151550.0: 1})\n",
      "\n",
      "Thread[36035] Process[31944] tcsh at 2019-02-15 17:48:42.731348 delayacct_blkio_time 10000.0\n",
      "Thread[41211] Process[36496] tcsh at 2019-02-15 17:48:39.246671 delayacct_blkio_time 2520000.0\n",
      "2 outliers found for delayacct_blkio_time\n",
      "mean before: 193.4250764525994\n",
      "\n",
      "Thread[265] Process[241] tcsh at 2019-02-15 17:56:06.790720 usertime 18997.0\n",
      "Thread[537] Process[486] tcsh at 2019-02-15 18:03:31.668908 usertime 18997.0\n",
      "Thread[14304] Process[12732] tcsh at 2019-02-15 18:12:34.015025 usertime 19996.0\n",
      "Thread[16488] Process[14706] tcsh at 2019-02-15 18:01:52.127343 usertime 18997.0\n",
      "Thread[20680] Process[18423] tcsh at 2019-02-15 18:54:46.909094 usertime 18997.0\n",
      "Thread[23923] Process[21285] tcsh at 2019-02-15 18:54:38.002887 usertime 18997.0\n",
      "Thread[27872] Process[24720] tcsh at 2019-02-15 18:02:53.484840 usertime 18997.0\n",
      "Thread[33560] Process[29790] tcsh at 2019-02-15 18:01:46.092108 usertime 19996.0\n",
      "Thread[34227] Process[30370] tcsh at 2019-02-15 18:03:47.618650 usertime 18997.0\n",
      "Thread[34744] Process[30809] tcsh at 2019-02-15 18:02:28.795891 usertime 18997.0\n",
      "Thread[39221] Process[34752] tcsh at 2019-02-15 18:50:03.204799 usertime 18997.0\n",
      "Thread[41211] Process[36496] tcsh at 2019-02-15 17:48:39.246671 usertime 872867.0\n",
      "12 outliers found for usertime\n",
      "mean before: 6739.65489296636\n",
      "\n",
      "Thread[10187] Process[9050] tcsh at 2019-02-15 18:16:38.810434 invol_ctxsw 14.0\n",
      "Thread[13712] Process[12215] tcsh at 2019-02-15 17:50:45.034142 invol_ctxsw 20.0\n",
      "Thread[17195] Process[15329] tcsh at 2019-02-15 17:55:08.422529 invol_ctxsw 22.0\n",
      "Thread[18926] Process[16880] tcsh at 2019-02-15 17:50:45.123398 invol_ctxsw 12.0\n",
      "Thread[19914] Process[17750] tcsh at 2019-02-15 18:16:38.774087 invol_ctxsw 12.0\n",
      "Thread[23581] Process[20979] tcsh at 2019-02-15 18:16:38.847033 invol_ctxsw 18.0\n",
      "Thread[27395] Process[24285] tcsh at 2019-02-15 17:56:59.484014 invol_ctxsw 15.0\n",
      "Thread[29748] Process[26389] tcsh at 2019-02-15 17:58:02.063941 invol_ctxsw 22.0\n",
      "Thread[30164] Process[26757] tcsh at 2019-02-15 17:54:57.727669 invol_ctxsw 16.0\n",
      "Thread[35042] Process[31065] tcsh at 2019-02-15 17:56:09.259943 invol_ctxsw 32.0\n",
      "Thread[36854] Process[32664] tcsh at 2019-02-15 17:50:44.985142 invol_ctxsw 15.0\n",
      "Thread[39133] Process[34676] tcsh at 2019-02-15 18:16:38.686491 invol_ctxsw 12.0\n",
      "Thread[41211] Process[36496] tcsh at 2019-02-15 17:48:39.246671 invol_ctxsw 220.0\n",
      "Thread[42271] Process[37430] tcsh at 2019-02-15 18:16:38.898321 invol_ctxsw 20.0\n",
      "14 outliers found for invol_ctxsw\n",
      "mean before: 2.4359327217125384\n",
      "\n",
      "Thread[2345] Process[2075] tcsh at 2019-02-15 18:00:30.263038 time_oncpu 25209573.0\n",
      "Thread[9628] Process[8548] tcsh at 2019-02-15 18:50:29.471732 time_oncpu 25173172.0\n",
      "Thread[11605] Process[10321] tcsh at 2019-02-15 18:50:30.877646 time_oncpu 25019409.0\n",
      "Thread[16688] Process[14885] tcsh at 2019-02-15 17:56:59.612184 time_oncpu 25297225.0\n",
      "Thread[20001] Process[17825] tcsh at 2019-02-15 18:54:29.526939 time_oncpu 25028527.0\n",
      "Thread[24894] Process[22130] tcsh at 2019-02-15 18:50:30.408303 time_oncpu 25226908.0\n",
      "Thread[27529] Process[24410] tcsh at 2019-02-15 18:50:29.744074 time_oncpu 24968305.0\n",
      "Thread[27847] Process[24701] tcsh at 2019-02-15 18:00:51.519082 time_oncpu 25065330.0\n",
      "Thread[29195] Process[25878] tcsh at 2019-02-15 17:59:18.752385 time_oncpu 24948538.0\n",
      "Thread[30492] Process[27058] tcsh at 2019-02-15 18:50:35.597399 time_oncpu 26103363.0\n",
      "Thread[33862] Process[30053] tcsh at 2019-02-15 18:50:30.695850 time_oncpu 25124135.0\n",
      "Thread[35300] Process[31290] tcsh at 2019-02-15 17:50:16.943705 time_oncpu 25286634.0\n",
      "Thread[38760] Process[34342] tcsh at 2019-02-15 18:57:57.332950 time_oncpu 25536941.0\n",
      "Thread[41211] Process[36496] tcsh at 2019-02-15 17:48:39.246671 time_oncpu 1768347538.0\n",
      "14 outliers found for time_oncpu\n",
      "mean before: 10630769.696636086\n",
      "\n",
      "Thread[1699] Process[1507] tcsh at 2019-02-15 18:00:31.737414 systemtime 14997.0\n",
      "Thread[1788] Process[1584] tcsh at 2019-02-15 18:01:45.530091 systemtime 12998.0\n",
      "Thread[4283] Process[3803] tcsh at 2019-02-15 17:55:12.700607 systemtime 12998.0\n",
      "Thread[6800] Process[6038] tcsh at 2019-02-15 18:03:56.839593 systemtime 12998.0\n",
      "Thread[7148] Process[6344] tcsh at 2019-02-15 18:00:22.298107 systemtime 12998.0\n",
      "Thread[7735] Process[6862] tcsh at 2019-02-15 18:03:12.162374 systemtime 12998.0\n",
      "Thread[12153] Process[10809] tcsh at 2019-02-15 18:08:39.832294 systemtime 12998.0\n",
      "Thread[13044] Process[11610] tcsh at 2019-02-15 18:02:08.416400 systemtime 13997.0\n",
      "Thread[13344] Process[11877] tcsh at 2019-02-15 18:50:31.161027 systemtime 12998.0\n",
      "Thread[17047] Process[15196] tcsh at 2019-02-15 18:02:35.911463 systemtime 12998.0\n",
      "Thread[18926] Process[16880] tcsh at 2019-02-15 17:50:45.123398 systemtime 12998.0\n",
      "Thread[41211] Process[36496] tcsh at 2019-02-15 17:48:39.246671 systemtime 894863.0\n",
      "12 outliers found for systemtime\n",
      "mean before: 3339.496483180428\n"
     ]
    }
   ],
   "source": [
    "def compute_quantiles(frame):\n",
    "    retval = frame.quantile([.5,.999])\n",
    "    return retval\n",
    "\n",
    "def fetch_outliers(pdf, metric):\n",
    "    frame_quantiles = compute_quantiles(pdf[metric])\n",
    "    return pdf[pdf[metric] > frame_quantiles[.999]]\n",
    "\n",
    "def print_outliers(d, metric):\n",
    "    for index, row in d.iterrows():\n",
    "        thr = row['thread']\n",
    "        proc = thr.process\n",
    "        print thr,proc,proc.exename,\"at\",proc.start,metric,row[metric]\n",
    "\n",
    "def get_outliers(dfi, metric):\n",
    "#    df.boxplot(column=metric)\n",
    "#    plt.show()\n",
    "#    print df[metric].describe()\n",
    "    dfol = fetch_outliers(dfi, metric)\n",
    "    return dfol \n",
    "#    print df[metric].describe()\n",
    "#    df.boxplot()\n",
    "#    plt.show()\n",
    "#    return dfi,dfol\n",
    "\n",
    "\n",
    "# Very important to be sorted by thread object here!\n",
    "\n",
    "tofind = [ \"delayacct_blkio_time\",\"usertime\",\"invol_ctxsw\",\"time_oncpu\",\"systemtime\" ]\n",
    "df = pd.DataFrame()\n",
    "for k in tofind:\n",
    "    if k in meas:\n",
    "        v,t = zip(*meas[k])\n",
    "        df[k] = v\n",
    "        if 'thread' not in df.columns:\n",
    "            df['thread'] = t\n",
    "\n",
    "t = Thread[41211]\n",
    "print t,t.process\n",
    "print t.metrics.value\n",
    "# Thread[23153] Process[20602] tcsh at 2019-02-15 18:46:10.422353 delayacct_blkio_time 10000.0\n",
    "# Thread[38021] Process[33690] tcsh at 2019-02-15 18:01:31.958077 delayacct_blkio_time 2520000.0\n",
    "        \n",
    "\n",
    "for metric in tofind:\n",
    "    print\n",
    "#    a = pd.DataFrame()\n",
    "    b = pd.DataFrame()\n",
    "    b = get_outliers(df[['thread',metric]].copy(),metric)\n",
    "    print_outliers(b,metric)\n",
    "    print len(b.index),\"outliers found for\",metric\n",
    "    print \"mean before:\",df[metric].describe()[\"mean\"]\n",
    "#    print \"mean after:\",b[metric].describe()[\"mean\"]\n"
   ]
  },
  {
   "cell_type": "code",
   "execution_count": 273,
   "metadata": {},
   "outputs": [
    {
     "name": "stdout",
     "output_type": "stream",
     "text": [
      "Thread[27377] Process[24267] Multiset({0.0: 11, 1.0: 2, 2.0: 1, 3.0: 1, 39.0: 1, 390.0: 1, 999.0: 1, 2904.0: 1, 2999.0: 1, 17394.0: 1, 31500.0: 1, 242351.0: 1, 832970.0: 1, 4432518.0: 1, 1826634490000.0: 1})\n"
     ]
    }
   ],
   "source": [
    "\n",
    "t = Thread[27377]\n",
    "print t,t.process,t.metrics.value\n"
   ]
  },
  {
   "cell_type": "code",
   "execution_count": null,
   "metadata": {},
   "outputs": [],
   "source": [
    "import pandas as pd\n",
    "df = pd.DataFrame({'Duration': q[:]})\n",
    "print df.describe()\n",
    "array = [durs]\n",
    "plt.boxplot(array,showmeans=True,whis=99)\n",
    "plt.show()\n",
    "\n"
   ]
  },
  {
   "cell_type": "code",
   "execution_count": null,
   "metadata": {
    "collapsed": true
   },
   "outputs": [],
   "source": [
    "#    for key, value in proc_dict.iteritems():\n",
    "#        if value[\"threads\"] > value[\"count\"]:\n",
    "#            print key, value[\"duration\"], total, value[\"duration\"]*100.0/total \n",
    "#        names[\"foo\"] += 1\n",
    "#        attr[p.exename] += p.duration\n",
    "\n",
    "\n",
    "\n",
    "#jobs=select(j for j in Job if j.jobid == jobid)\n",
    "#for j in jobs:\n",
    "#    print \"Job found:\",j.jobname, j.jobid\n",
    "\n",
    "# print \"TOTAL:\",len(processes)\n",
    "#print processes\n",
    "#for p in processes:\n",
    "#    print p\n",
    "#processes=select((p.exename, p.duration) for p in Process if p.job == j and p.exename == \"tcsh\").order_by(-2)\n",
    "#print \"TCSH:\", len(processes)\n",
    "#print \"SUM:\",sum(p.duration for p in Process if p.job == j and p.exename == \"tcsh\")\n",
    "# for p in processes:\n",
    "#    print p[1]\n",
    "# Slice up tuples into X and Y\n",
    "# print labels\n",
    "\n"
   ]
  },
  {
   "cell_type": "code",
   "execution_count": null,
   "metadata": {},
   "outputs": [],
   "source": [
    "#    \n",
    "    Process.select(lambda p: p.job == jobid)\n",
    "    \n",
    "    j.processes w# lookup job\n",
    "\n",
    "\n",
    "    doit = False\n",
    "        for pat in exepatlist:\n",
    "            if fnmatch.fnmatch(p.exename, pat):\n",
    "                doit = True\n",
    "                break\n",
    "        if not doit:\n",
    "            continue\n",
    "total, proc_dict = get_job_processes_full_attr(jobid='19917749.moab01.princeton.rdhpcs.noaa.gov', attr_name='duration', exepatlist=[\"gl*\"])\n",
    "\n",
    "#print proc_dict\n",
    "x_val = []\n",
    "y_val = []\n",
    "for key, value in proc_dict.iteritems():\n",
    "    plt.plot([ i for i in range(len(value[\"start\"]))],value[\"start\"])\n",
    "    plt.show()\n",
    "\n",
    "print value[\"start\"]\n",
    "\n",
    "#threads=select(p.threads for p in Process if p.job == j)\n",
    "#print \"TOTAL:\",len(threads)\n",
    "#print j\n",
    "metricnames=select(m.name for m in MetricName)[:]\n",
    "#print metricnames, len(metricnames)\n",
    "\n",
    "values=select((m.thread.process.exename, m.metricname.name, sum(m.value)) for m in Metric if m.thread.process.job == j and m.thread.process.exename == 'which').order_by(2)\n",
    "#metricname == MetricName[\"usertime\"])[:10]\n",
    "#print len(values), values[:]\n",
    "# foundmetricnames=[t[1] for t in values][:len(metricnames)]\n",
    "# print foundmetricnames,len(foundmetricnames)\n",
    "numexes = len(values)/len(metricnames)\n",
    "\n",
    "# Iterate over metrics, using number of executables at a time\n",
    "for offset in range(0,len(values),numexes):\n",
    "    mn = (values[:])[offset][1]\n",
    "    procnames = [p[0] for p in values[offset:offset+numexes]]\n",
    "    y_val = [p[2] for p in values[offset:offset+numexes]]\n",
    "    if all(i == 0.0 for i in y_val):\n",
    "        print offset,mn,\"had no non-zero values\"\n",
    "    else:\n",
    "        print offset, mn\n",
    "        print procnames\n",
    "        print y_val\n",
    "        #barplot(labels=procnames,y_val=y_val,mn=mn)\n",
    "\n",
    "values=select((m.thread.process.pid, m.value) for m in Metric if m.metricname.name == \"rssmax\" and m.thread.process.exename == 'which').order_by(2)\n",
    "\n",
    "\n",
    "\n"
   ]
  },
  {
   "cell_type": "code",
   "execution_count": null,
   "metadata": {},
   "outputs": [],
   "source": [
    "values=select((m.thread.process.exename, sum(m.thread.process.duration), m.metricname.name, sum(m.value)) for m in Metric if m.metricname.name == \"systemtime\" or m.metricname.name == \"usertime\" ).order_by(3)\n",
    "print len(values)\n",
    "i=len(values)/2\n",
    "print i,values[0:1]\n",
    "print values[64:65]\n",
    "procnames = [p[0] for p in values[0:i]]\n",
    "y_val1 = [p[3] for p in values[0:i]]\n",
    "y_val2 = [p[3] for p in values[i:len(values)]]\n",
    "barplot_stack(labels=procnames,y_val=y_val1, y2_val=y_val2,mn=[\"systemtime\", \"usertime\"],yscale=\"linear\",ylim=(0,100000000))\n",
    "\n",
    "#"
   ]
  },
  {
   "cell_type": "code",
   "execution_count": null,
   "metadata": {},
   "outputs": [],
   "source": [
    "print len(values[:])"
   ]
  },
  {
   "cell_type": "code",
   "execution_count": null,
   "metadata": {},
   "outputs": [],
   "source": [
    "for p in processes:\n",
    "    print count(p.threads), p.exename, p.duration\n",
    "    #s um(p.threads.duration), p.threads.metrics\n",
    "    threads=select (t for t in Thread if t.process == p)\n",
    "    for t in threads:\n",
    "            print \"\\t\", t.tid, t.duration"
   ]
  },
  {
   "cell_type": "code",
   "execution_count": null,
   "metadata": {},
   "outputs": [],
   "source": [
    "select((p.exename, count(p)) for p in Process if p.job == j).without_distinct()[:]\n",
    "                                                                                 "
   ]
  },
  {
   "cell_type": "code",
   "execution_count": null,
   "metadata": {
    "collapsed": true
   },
   "outputs": [],
   "source": []
  },
  {
   "cell_type": "code",
   "execution_count": null,
   "metadata": {
    "collapsed": true
   },
   "outputs": [],
   "source": []
  }
 ],
 "metadata": {
  "kernelspec": {
   "display_name": "Python 2",
   "language": "python",
   "name": "python2"
  },
  "language_info": {
   "codemirror_mode": {
    "name": "ipython",
    "version": 2
   },
   "file_extension": ".py",
   "mimetype": "text/x-python",
   "name": "python",
   "nbconvert_exporter": "python",
   "pygments_lexer": "ipython2",
   "version": "2.7.10"
  }
 },
 "nbformat": 4,
 "nbformat_minor": 1
}
