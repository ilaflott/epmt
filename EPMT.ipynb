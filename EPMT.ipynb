{
 "cells": [
  {
   "cell_type": "code",
   "execution_count": 1,
   "metadata": {
    "collapsed": false
   },
   "outputs": [],
   "source": [
    "from models import *\n",
    "import settings\n",
    "import fnmatch\n",
    "\n",
    "set_sql_debug(True)\n",
    "db.bind(**settings.db_params)\n",
    "# provider='postgres',user='postgres',password='example',host='localhost',dbname='EPMT')\n",
    "db.generate_mapping(create_tables=True)\n"
   ]
  },
  {
   "cell_type": "code",
   "execution_count": 2,
   "metadata": {
    "collapsed": true
   },
   "outputs": [],
   "source": [
    "%matplotlib inline\n",
    "import matplotlib.pyplot as plt\n",
    "import numpy as np\n",
    "plt.rcParams['figure.figsize'] = [15, 8]\n",
    "\n",
    "def barplot(labels=[], y_val=[], mn=\"None\", yscale=\"log\", title_suffix=\"by executable\"):\n",
    "    index = np.arange(len(labels))\n",
    "    plt.yscale(yscale)\n",
    "    plt.bar(index, y_val)\n",
    "# performance, align='center', alpha=0.5)\n",
    "    plt.xticks(index, labels, fontsize=10, rotation=45)\n",
    "# y_pos, objects)\n",
    "    plt.ylabel(mn)\n",
    "    plt.title(mn+' '+title_suffix)\n",
    "    plt.show()\n",
    "\n",
    "def barplot_stack(labels=[], y_val=[], y2_val=[], mn=[], yscale=\"log\", ylim=(), title_suffix=\"by executable\"):\n",
    "    index = np.arange(len(labels))\n",
    "    plt.yscale(yscale)\n",
    "    p1 = plt.bar(index, y_val, color='r')\n",
    "    p2 = plt.bar(index, y2_val, bottom=y_val, color='g')\n",
    "# performance, align='center', alpha=0.5)\n",
    "    plt.xticks(index, labels, fontsize=10, rotation=45)\n",
    "# y_pos, objects)\n",
    "    plt.ylabel(mn[0]+\"+\"+mn[1])\n",
    "    plt.legend((p1[0], p2[0]), (mn[0], mn[1]))\n",
    "    plt.title(mn[0]+\"+\"+mn[1]+' '+title_suffix)\n",
    "    plt.ylim(ylim)\n",
    "    plt.show()\n",
    "\n"
   ]
  },
  {
   "cell_type": "code",
   "execution_count": 3,
   "metadata": {
    "collapsed": false
   },
   "outputs": [],
   "source": [
    "# Return list of objects for jobid\n",
    "\n",
    "def get_processes_job(jobid):\n",
    "    # lookup job\n",
    "    try:\n",
    "        j = Job[jobid]\n",
    "    except Exception as e:\n",
    "        print \"not found\",e\n",
    "        return None\n",
    "    print \"Found job\",jobid,\"with\",len(j.processes),\"processes and\",len(j.processes.threads),\"threads\"\n",
    "    return j.processes\n",
    "    \n",
    "# Reduce all processes by executable name and return sums of metric\n",
    "\n",
    "    # we could do this with a query, maybe\n",
    "    # processes=select((p.exename, sum(p.duration), count(p)) for p in Process if p.job == j).order_by(-2)\n",
    "    #    for p in processes:\n",
    "    #        threads += p.threads\n",
    "\n",
    "def get_job_processes_reduce_attr(jobid, attr_name, cutoff=0.0, exelen=10):\n",
    "    processes = get_processes_job(jobid)\n",
    "    if not processes:\n",
    "        return\n",
    "    proc_dict={}\n",
    "    total = 0.0\n",
    "    for p in processes:\n",
    "        exename = p.exename[:exelen] + (p.exename[exelen:] and '...')\n",
    "        if exename not in proc_dict:\n",
    "            proc_dict[exename] = {}\n",
    "            proc_dict[exename][\"count\"] = 1\n",
    "            proc_dict[exename][\"threads\"] = len(p.threads)\n",
    "            proc_dict[exename][attr_name] = getattr(p, attr_name)\n",
    "        else:\n",
    "            proc_dict[exename][\"count\"] += 1\n",
    "            proc_dict[exename][\"threads\"] += len(p.threads)\n",
    "            proc_dict[exename][attr_name] += getattr(p, attr_name)\n",
    "        total += getattr(p, attr_name)\n",
    "    \n",
    "    if cutoff > 0.0:\n",
    "        for key in proc_dict.keys():\n",
    "            if proc_dict[key][attr_name] < cutoff:\n",
    "                del proc_dict[key]\n",
    "       \n",
    "    return (total, proc_dict)"
   ]
  },
  {
   "cell_type": "code",
   "execution_count": null,
   "metadata": {
    "collapsed": false
   },
   "outputs": [],
   "source": [
    "total, proc_dict = get_job_processes_reduce_attr(jobid='19917749.moab01.princeton.rdhpcs.noaa.gov', attr_name='duration', cutoff=1000000.0)\n",
    "labels = []\n",
    "y_val = []\n",
    "y_val2 = []\n",
    "y_val3 = []\n",
    "for key, value in proc_dict.iteritems():\n",
    "    labels.append(key)\n",
    "    y_val3.append(value[\"duration\"]/value[\"count\"])\n",
    "    y_val.append(value[\"duration\"])\n",
    "    y_val2.append(value[\"count\"])\n",
    "    \n",
    "barplot(labels=labels,y_val=y_val3,mn=\"average wall clock duration\")\n",
    "barplot(labels=labels,y_val=y_val,mn=\"wall clock duration\")\n",
    "barplot(labels=labels,y_val=y_val2,mn=\"invocations\")"
   ]
  },
  {
   "cell_type": "code",
   "execution_count": 4,
   "metadata": {
    "collapsed": false
   },
   "outputs": [],
   "source": [
    "# Reduce all processes by executable name and return sums of metric\n",
    "\n",
    "def get_job_processes_full_attr(processes, attr_name, exepatlist=[], cutoff=0.0, exelen=10):\n",
    "    proc_dict={}\n",
    "    total = 0.0\n",
    "    earliest = 0.0\n",
    "    for p in processes:\n",
    "        exename = p.exename[:exelen] + (p.exename[exelen:] and '...')\n",
    "        if exename not in proc_dict:\n",
    "            proc_dict[exename] = {}\n",
    "            proc_dict[exename][attr_name] = [getattr(p, attr_name)]\n",
    "            proc_dict[exename][\"start\"] = [getattr(p, \"start\")]                     \n",
    "        else:\n",
    "            proc_dict[exename][attr_name].append(getattr(p, attr_name))\n",
    "            proc_dict[exename][\"start\"].append(getattr(p, \"start\"))\n",
    "        total += getattr(p, attr_name)\n",
    "    \n",
    "    if cutoff > 0.0:\n",
    "        for key in proc_dict.keys():\n",
    "            if proc_dict[key][attr_name] < cutoff:\n",
    "                del proc_dict[key]\n",
    "       \n",
    "    return (total, proc_dict)\n"
   ]
  },
  {
   "cell_type": "code",
   "execution_count": 50,
   "metadata": {
    "collapsed": false
   },
   "outputs": [
    {
     "data": {
      "image/png": "[encoded data removed]",
      "text/plain": [
       "<matplotlib.figure.Figure at 0x10d4e2b10>"
      ]
     },
     "metadata": {},
     "output_type": "display_data"
    }
   ],
   "source": [
    "# Return list of objects for jobid\n",
    "\n",
    "def get_processes_job_filter(jobid, pat=None):\n",
    "    query = select ((p.exename, p.start, p.duration) for p in Process \n",
    "                    if p.job in select(j for j in Job if j.jobid == jobid)).order_by(2)\n",
    "    if pat:\n",
    "        query = query.filter(lambda p, q, r: p.startswith(pat))\n",
    "    return query[:]\n",
    "\n",
    "a = get_processes_job_filter(jobid='19917749.moab01.princeton.rdhpcs.noaa.gov', pat=\"gl\")    \n",
    "b = zip(*a)\n",
    "plt.plot([],[])\n",
    "plt.scatter(b[1],b[2])\n",
    "plt.gcf().autofmt_xdate()\n",
    "\n",
    "plt.show() \n",
    "#    value[\"duration\"]\n",
    "    #y_val.append()\n",
    "#    print value[\"start\"]\n",
    "    #x_val.append(value[\"start\"])\n",
    "\n",
    "#x_val = [i for i in range(len(y_val))]\n",
    "#print x_val, len(y_val)\n",
    "##barplot(labels=labels,y_val=y_val3,mn=\"average wall clock duration\")\n",
    "#barplot(labels=labels,y_val=y_val,mn=\"wall clock duration\")\n",
    "#barplot(labels=labels,y_val=y_val2,mn=\"invocations\")"
   ]
  },
  {
   "cell_type": "code",
   "execution_count": null,
   "metadata": {
    "collapsed": true
   },
   "outputs": [],
   "source": [
    "#    for key, value in proc_dict.iteritems():\n",
    "#        if value[\"threads\"] > value[\"count\"]:\n",
    "#            print key, value[\"duration\"], total, value[\"duration\"]*100.0/total \n",
    "#        names[\"foo\"] += 1\n",
    "#        attr[p.exename] += p.duration\n",
    "\n",
    "\n",
    "\n",
    "#jobs=select(j for j in Job if j.jobid == jobid)\n",
    "#for j in jobs:\n",
    "#    print \"Job found:\",j.jobname, j.jobid\n",
    "\n",
    "# print \"TOTAL:\",len(processes)\n",
    "#print processes\n",
    "#for p in processes:\n",
    "#    print p\n",
    "#processes=select((p.exename, p.duration) for p in Process if p.job == j and p.exename == \"tcsh\").order_by(-2)\n",
    "#print \"TCSH:\", len(processes)\n",
    "#print \"SUM:\",sum(p.duration for p in Process if p.job == j and p.exename == \"tcsh\")\n",
    "# for p in processes:\n",
    "#    print p[1]\n",
    "# Slice up tuples into X and Y\n",
    "# print labels\n",
    "\n"
   ]
  },
  {
   "cell_type": "code",
   "execution_count": null,
   "metadata": {
    "collapsed": false
   },
   "outputs": [],
   "source": [
    "#    \n",
    "    Process.select(lambda p: p.job == jobid)\n",
    "    \n",
    "    j.processes w# lookup job\n",
    "\n",
    "\n",
    "    doit = False\n",
    "        for pat in exepatlist:\n",
    "            if fnmatch.fnmatch(p.exename, pat):\n",
    "                doit = True\n",
    "                break\n",
    "        if not doit:\n",
    "            continue\n",
    "total, proc_dict = get_job_processes_full_attr(jobid='19917749.moab01.princeton.rdhpcs.noaa.gov', attr_name='duration', exepatlist=[\"gl*\"])\n",
    "\n",
    "#print proc_dict\n",
    "x_val = []\n",
    "y_val = []\n",
    "for key, value in proc_dict.iteritems():\n",
    "    plt.plot([ i for i in range(len(value[\"start\"]))],value[\"start\"])\n",
    "    plt.show()\n",
    "\n",
    "print value[\"start\"]\n",
    "\n",
    "#threads=select(p.threads for p in Process if p.job == j)\n",
    "#print \"TOTAL:\",len(threads)\n",
    "#print j\n",
    "metricnames=select(m.name for m in MetricName)[:]\n",
    "#print metricnames, len(metricnames)\n",
    "\n",
    "values=select((m.thread.process.exename, m.metricname.name, sum(m.value)) for m in Metric if m.thread.process.job == j and m.thread.process.exename == 'which').order_by(2)\n",
    "#metricname == MetricName[\"usertime\"])[:10]\n",
    "#print len(values), values[:]\n",
    "# foundmetricnames=[t[1] for t in values][:len(metricnames)]\n",
    "# print foundmetricnames,len(foundmetricnames)\n",
    "numexes = len(values)/len(metricnames)\n",
    "\n",
    "# Iterate over metrics, using number of executables at a time\n",
    "for offset in range(0,len(values),numexes):\n",
    "    mn = (values[:])[offset][1]\n",
    "    procnames = [p[0] for p in values[offset:offset+numexes]]\n",
    "    y_val = [p[2] for p in values[offset:offset+numexes]]\n",
    "    if all(i == 0.0 for i in y_val):\n",
    "        print offset,mn,\"had no non-zero values\"\n",
    "    else:\n",
    "        print offset, mn\n",
    "        print procnames\n",
    "        print y_val\n",
    "        #barplot(labels=procnames,y_val=y_val,mn=mn)\n",
    "\n",
    "values=select((m.thread.process.pid, m.value) for m in Metric if m.metricname.name == \"rssmax\" and m.thread.process.exename == 'which').order_by(2)\n",
    "\n",
    "\n",
    "\n"
   ]
  },
  {
   "cell_type": "code",
   "execution_count": null,
   "metadata": {
    "collapsed": false
   },
   "outputs": [],
   "source": [
    "values=select((m.thread.process.exename, sum(m.thread.process.duration), m.metricname.name, sum(m.value)) for m in Metric if m.metricname.name == \"systemtime\" or m.metricname.name == \"usertime\" ).order_by(3)\n",
    "print len(values)\n",
    "i=len(values)/2\n",
    "print i,values[0:1]\n",
    "print values[64:65]\n",
    "procnames = [p[0] for p in values[0:i]]\n",
    "y_val1 = [p[3] for p in values[0:i]]\n",
    "y_val2 = [p[3] for p in values[i:len(values)]]\n",
    "barplot_stack(labels=procnames,y_val=y_val1, y2_val=y_val2,mn=[\"systemtime\", \"usertime\"],yscale=\"linear\",ylim=(0,100000000))\n",
    "\n",
    "#"
   ]
  },
  {
   "cell_type": "code",
   "execution_count": null,
   "metadata": {
    "collapsed": false
   },
   "outputs": [],
   "source": [
    "print len(values[:])"
   ]
  },
  {
   "cell_type": "code",
   "execution_count": null,
   "metadata": {
    "collapsed": false
   },
   "outputs": [],
   "source": [
    "for p in processes:\n",
    "    print count(p.threads), p.exename, p.duration\n",
    "    #s um(p.threads.duration), p.threads.metrics\n",
    "    threads=select (t for t in Thread if t.process == p)\n",
    "    for t in threads:\n",
    "            print \"\\t\", t.tid, t.duration"
   ]
  },
  {
   "cell_type": "code",
   "execution_count": null,
   "metadata": {
    "collapsed": false
   },
   "outputs": [],
   "source": [
    "select((p.exename, count(p)) for p in Process if p.job == j).without_distinct()[:]\n",
    "                                                                                 "
   ]
  },
  {
   "cell_type": "code",
   "execution_count": null,
   "metadata": {
    "collapsed": true
   },
   "outputs": [],
   "source": []
  },
  {
   "cell_type": "code",
   "execution_count": null,
   "metadata": {
    "collapsed": true
   },
   "outputs": [],
   "source": []
  }
 ],
 "metadata": {
  "kernelspec": {
   "display_name": "Python 2",
   "language": "python",
   "name": "python2"
  },
  "language_info": {
   "codemirror_mode": {
    "name": "ipython",
    "version": 2
   },
   "file_extension": ".py",
   "mimetype": "text/x-python",
   "name": "python",
   "nbconvert_exporter": "python",
   "pygments_lexer": "ipython2",
   "version": "2.7.13"
  }
 },
 "nbformat": 4,
 "nbformat_minor": 0
}
